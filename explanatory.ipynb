{
 "cells": [
  {
   "cell_type": "markdown",
   "metadata": {
    "slideshow": {
     "slide_type": "slide"
    }
   },
   "source": [
    "# Ford GoBike Bay Wheels Data Exploration\n",
    "## by Kimberley Moore"
   ]
  },
  {
   "cell_type": "markdown",
   "metadata": {
    "slideshow": {
     "slide_type": "skip"
    }
   },
   "source": [
    "## Preliminary Wrangling\n",
    "\n",
    "This document explores a dataset containing Bay Wheels's bike trip data for 2018."
   ]
  },
  {
   "cell_type": "code",
   "execution_count": 1,
   "metadata": {
    "slideshow": {
     "slide_type": "skip"
    }
   },
   "outputs": [],
   "source": [
    "# import all packages and set plots to be embedded inline\n",
    "import numpy as np\n",
    "import pandas as pd\n",
    "import matplotlib.pyplot as plt\n",
    "import seaborn as sb\n",
    "import os\n",
    "import requests\n",
    "import zipfile\n",
    "from io import BytesIO\n",
    "from datetime import datetime\n",
    "\n",
    "%matplotlib inline"
   ]
  },
  {
   "cell_type": "code",
   "execution_count": 2,
   "metadata": {
    "slideshow": {
     "slide_type": "skip"
    }
   },
   "outputs": [],
   "source": [
    "folder_name = 'fordgobike-2018'\n",
    "# Make directory if it doesn't already exist\n",
    "if not os.path.exists(folder_name):\n",
    "    os.makedirs(folder_name)\n",
    "    \n",
    "urls_list = ['https://s3.amazonaws.com/baywheels-data/201801-fordgobike-tripdata.csv.zip',\n",
    "            'https://s3.amazonaws.com/baywheels-data/201802-fordgobike-tripdata.csv.zip',\n",
    "            'https://s3.amazonaws.com/baywheels-data/201803-fordgobike-tripdata.csv.zip',\n",
    "            'https://s3.amazonaws.com/baywheels-data/201804-fordgobike-tripdata.csv.zip',\n",
    "            'https://s3.amazonaws.com/baywheels-data/201805-fordgobike-tripdata.csv.zip',\n",
    "            'https://s3.amazonaws.com/baywheels-data/201806-fordgobike-tripdata.csv.zip',\n",
    "            'https://s3.amazonaws.com/baywheels-data/201807-fordgobike-tripdata.csv.zip',\n",
    "            'https://s3.amazonaws.com/baywheels-data/201808-fordgobike-tripdata.csv.zip',\n",
    "            'https://s3.amazonaws.com/baywheels-data/201809-fordgobike-tripdata.csv.zip',\n",
    "            'https://s3.amazonaws.com/baywheels-data/201810-fordgobike-tripdata.csv.zip',\n",
    "            'https://s3.amazonaws.com/baywheels-data/201811-fordgobike-tripdata.csv.zip',\n",
    "            'https://s3.amazonaws.com/baywheels-data/201812-fordgobike-tripdata.csv.zip']\n",
    "\n",
    "for url in urls_list:\n",
    "    r = requests.get(url)\n",
    "    unzipped_file = zipfile.ZipFile(BytesIO(r.content))\n",
    "    unzipped_file.extractall(folder_name)"
   ]
  },
  {
   "cell_type": "code",
   "execution_count": 3,
   "metadata": {
    "slideshow": {
     "slide_type": "skip"
    }
   },
   "outputs": [],
   "source": [
    "file_list=[]\n",
    "for file_name in os.listdir(folder_name):\n",
    "    file = pd.read_csv(folder_name+'/'+file_name)\n",
    "    file_list.append(file)\n",
    "\n",
    "fordbike_2018 = pd.concat(file_list)"
   ]
  },
  {
   "cell_type": "code",
   "execution_count": 4,
   "metadata": {
    "slideshow": {
     "slide_type": "skip"
    }
   },
   "outputs": [
    {
     "data": {
      "text/html": [
       "<div>\n",
       "<style scoped>\n",
       "    .dataframe tbody tr th:only-of-type {\n",
       "        vertical-align: middle;\n",
       "    }\n",
       "\n",
       "    .dataframe tbody tr th {\n",
       "        vertical-align: top;\n",
       "    }\n",
       "\n",
       "    .dataframe thead th {\n",
       "        text-align: right;\n",
       "    }\n",
       "</style>\n",
       "<table border=\"1\" class=\"dataframe\">\n",
       "  <thead>\n",
       "    <tr style=\"text-align: right;\">\n",
       "      <th></th>\n",
       "      <th>duration_sec</th>\n",
       "      <th>start_time</th>\n",
       "      <th>end_time</th>\n",
       "      <th>start_station_id</th>\n",
       "      <th>start_station_name</th>\n",
       "      <th>start_station_latitude</th>\n",
       "      <th>start_station_longitude</th>\n",
       "      <th>end_station_id</th>\n",
       "      <th>end_station_name</th>\n",
       "      <th>end_station_latitude</th>\n",
       "      <th>end_station_longitude</th>\n",
       "      <th>bike_id</th>\n",
       "      <th>user_type</th>\n",
       "      <th>member_birth_year</th>\n",
       "      <th>member_gender</th>\n",
       "      <th>bike_share_for_all_trip</th>\n",
       "    </tr>\n",
       "  </thead>\n",
       "  <tbody>\n",
       "    <tr>\n",
       "      <th>81861</th>\n",
       "      <td>374</td>\n",
       "      <td>2018-12-11 18:59:01.2990</td>\n",
       "      <td>2018-12-11 19:05:15.8870</td>\n",
       "      <td>177.0</td>\n",
       "      <td>MacArthur Blvd at Telegraph Ave</td>\n",
       "      <td>37.826286</td>\n",
       "      <td>-122.265100</td>\n",
       "      <td>180.0</td>\n",
       "      <td>Telegraph Ave at 23rd St</td>\n",
       "      <td>37.812678</td>\n",
       "      <td>-122.268773</td>\n",
       "      <td>1107</td>\n",
       "      <td>Subscriber</td>\n",
       "      <td>NaN</td>\n",
       "      <td>NaN</td>\n",
       "      <td>No</td>\n",
       "    </tr>\n",
       "    <tr>\n",
       "      <th>135721</th>\n",
       "      <td>1456</td>\n",
       "      <td>2018-05-08 16:21:37.1040</td>\n",
       "      <td>2018-05-08 16:45:53.2530</td>\n",
       "      <td>16.0</td>\n",
       "      <td>Steuart St at Market St</td>\n",
       "      <td>37.794130</td>\n",
       "      <td>-122.394430</td>\n",
       "      <td>133.0</td>\n",
       "      <td>Valencia St at 22nd St</td>\n",
       "      <td>37.755213</td>\n",
       "      <td>-122.420975</td>\n",
       "      <td>4000</td>\n",
       "      <td>Subscriber</td>\n",
       "      <td>1974.0</td>\n",
       "      <td>Male</td>\n",
       "      <td>No</td>\n",
       "    </tr>\n",
       "    <tr>\n",
       "      <th>93697</th>\n",
       "      <td>6278</td>\n",
       "      <td>2018-08-16 14:35:46.5680</td>\n",
       "      <td>2018-08-16 16:20:25.0650</td>\n",
       "      <td>190.0</td>\n",
       "      <td>West St at 40th St</td>\n",
       "      <td>37.830223</td>\n",
       "      <td>-122.270950</td>\n",
       "      <td>190.0</td>\n",
       "      <td>West St at 40th St</td>\n",
       "      <td>37.830223</td>\n",
       "      <td>-122.270950</td>\n",
       "      <td>1420</td>\n",
       "      <td>Customer</td>\n",
       "      <td>1996.0</td>\n",
       "      <td>Male</td>\n",
       "      <td>No</td>\n",
       "    </tr>\n",
       "    <tr>\n",
       "      <th>72752</th>\n",
       "      <td>999</td>\n",
       "      <td>2018-02-08 19:42:55.9840</td>\n",
       "      <td>2018-02-08 19:59:35.1050</td>\n",
       "      <td>232.0</td>\n",
       "      <td>MLK Jr Way at 14th St</td>\n",
       "      <td>37.806163</td>\n",
       "      <td>-122.276040</td>\n",
       "      <td>186.0</td>\n",
       "      <td>Lakeside Dr at 14th St</td>\n",
       "      <td>37.801319</td>\n",
       "      <td>-122.262642</td>\n",
       "      <td>1013</td>\n",
       "      <td>Subscriber</td>\n",
       "      <td>1968.0</td>\n",
       "      <td>Male</td>\n",
       "      <td>No</td>\n",
       "    </tr>\n",
       "    <tr>\n",
       "      <th>135676</th>\n",
       "      <td>922</td>\n",
       "      <td>2018-08-09 18:21:24.4430</td>\n",
       "      <td>2018-08-09 18:36:47.0290</td>\n",
       "      <td>23.0</td>\n",
       "      <td>The Embarcadero at Steuart St</td>\n",
       "      <td>37.791464</td>\n",
       "      <td>-122.391034</td>\n",
       "      <td>62.0</td>\n",
       "      <td>Victoria Manalo Draves Park</td>\n",
       "      <td>37.777791</td>\n",
       "      <td>-122.406432</td>\n",
       "      <td>3491</td>\n",
       "      <td>Subscriber</td>\n",
       "      <td>1984.0</td>\n",
       "      <td>Female</td>\n",
       "      <td>No</td>\n",
       "    </tr>\n",
       "    <tr>\n",
       "      <th>104933</th>\n",
       "      <td>172</td>\n",
       "      <td>2018-07-16 14:54:57.2480</td>\n",
       "      <td>2018-07-16 14:57:50.1760</td>\n",
       "      <td>240.0</td>\n",
       "      <td>Haste St at Telegraph Ave</td>\n",
       "      <td>37.866043</td>\n",
       "      <td>-122.258804</td>\n",
       "      <td>252.0</td>\n",
       "      <td>Channing Way at Shattuck Ave</td>\n",
       "      <td>37.865847</td>\n",
       "      <td>-122.267443</td>\n",
       "      <td>2353</td>\n",
       "      <td>Subscriber</td>\n",
       "      <td>1996.0</td>\n",
       "      <td>Male</td>\n",
       "      <td>Yes</td>\n",
       "    </tr>\n",
       "    <tr>\n",
       "      <th>167338</th>\n",
       "      <td>403</td>\n",
       "      <td>2018-07-06 17:33:55.1200</td>\n",
       "      <td>2018-07-06 17:40:38.1930</td>\n",
       "      <td>8.0</td>\n",
       "      <td>The Embarcadero at Vallejo St</td>\n",
       "      <td>37.799953</td>\n",
       "      <td>-122.398525</td>\n",
       "      <td>15.0</td>\n",
       "      <td>San Francisco Ferry Building (Harry Bridges Pl...</td>\n",
       "      <td>37.795392</td>\n",
       "      <td>-122.394203</td>\n",
       "      <td>2618</td>\n",
       "      <td>Subscriber</td>\n",
       "      <td>1967.0</td>\n",
       "      <td>Male</td>\n",
       "      <td>No</td>\n",
       "    </tr>\n",
       "    <tr>\n",
       "      <th>69363</th>\n",
       "      <td>810</td>\n",
       "      <td>2018-11-12 11:54:29.1250</td>\n",
       "      <td>2018-11-12 12:07:59.2500</td>\n",
       "      <td>44.0</td>\n",
       "      <td>Civic Center/UN Plaza BART Station (Market St ...</td>\n",
       "      <td>37.781074</td>\n",
       "      <td>-122.411738</td>\n",
       "      <td>20.0</td>\n",
       "      <td>Mechanics Monument Plaza (Market St at Bush St)</td>\n",
       "      <td>37.791300</td>\n",
       "      <td>-122.399051</td>\n",
       "      <td>4424</td>\n",
       "      <td>Subscriber</td>\n",
       "      <td>1976.0</td>\n",
       "      <td>Male</td>\n",
       "      <td>Yes</td>\n",
       "    </tr>\n",
       "    <tr>\n",
       "      <th>109536</th>\n",
       "      <td>2482</td>\n",
       "      <td>2018-05-12 15:00:32.7780</td>\n",
       "      <td>2018-05-12 15:41:55.3870</td>\n",
       "      <td>200.0</td>\n",
       "      <td>2nd Ave at E 18th St</td>\n",
       "      <td>37.800214</td>\n",
       "      <td>-122.253810</td>\n",
       "      <td>200.0</td>\n",
       "      <td>2nd Ave at E 18th St</td>\n",
       "      <td>37.800214</td>\n",
       "      <td>-122.253810</td>\n",
       "      <td>3064</td>\n",
       "      <td>Customer</td>\n",
       "      <td>1995.0</td>\n",
       "      <td>Male</td>\n",
       "      <td>No</td>\n",
       "    </tr>\n",
       "    <tr>\n",
       "      <th>21916</th>\n",
       "      <td>417</td>\n",
       "      <td>2018-10-28 22:11:17.4310</td>\n",
       "      <td>2018-10-28 22:18:15.4130</td>\n",
       "      <td>181.0</td>\n",
       "      <td>Grand Ave at Webster St</td>\n",
       "      <td>37.811377</td>\n",
       "      <td>-122.265192</td>\n",
       "      <td>197.0</td>\n",
       "      <td>El Embarcadero at Grand Ave</td>\n",
       "      <td>37.808848</td>\n",
       "      <td>-122.249680</td>\n",
       "      <td>426</td>\n",
       "      <td>Subscriber</td>\n",
       "      <td>1989.0</td>\n",
       "      <td>Male</td>\n",
       "      <td>No</td>\n",
       "    </tr>\n",
       "  </tbody>\n",
       "</table>\n",
       "</div>"
      ],
      "text/plain": [
       "        duration_sec                start_time                  end_time  \\\n",
       "81861            374  2018-12-11 18:59:01.2990  2018-12-11 19:05:15.8870   \n",
       "135721          1456  2018-05-08 16:21:37.1040  2018-05-08 16:45:53.2530   \n",
       "93697           6278  2018-08-16 14:35:46.5680  2018-08-16 16:20:25.0650   \n",
       "72752            999  2018-02-08 19:42:55.9840  2018-02-08 19:59:35.1050   \n",
       "135676           922  2018-08-09 18:21:24.4430  2018-08-09 18:36:47.0290   \n",
       "104933           172  2018-07-16 14:54:57.2480  2018-07-16 14:57:50.1760   \n",
       "167338           403  2018-07-06 17:33:55.1200  2018-07-06 17:40:38.1930   \n",
       "69363            810  2018-11-12 11:54:29.1250  2018-11-12 12:07:59.2500   \n",
       "109536          2482  2018-05-12 15:00:32.7780  2018-05-12 15:41:55.3870   \n",
       "21916            417  2018-10-28 22:11:17.4310  2018-10-28 22:18:15.4130   \n",
       "\n",
       "        start_station_id                                 start_station_name  \\\n",
       "81861              177.0                    MacArthur Blvd at Telegraph Ave   \n",
       "135721              16.0                            Steuart St at Market St   \n",
       "93697              190.0                                 West St at 40th St   \n",
       "72752              232.0                              MLK Jr Way at 14th St   \n",
       "135676              23.0                      The Embarcadero at Steuart St   \n",
       "104933             240.0                          Haste St at Telegraph Ave   \n",
       "167338               8.0                      The Embarcadero at Vallejo St   \n",
       "69363               44.0  Civic Center/UN Plaza BART Station (Market St ...   \n",
       "109536             200.0                               2nd Ave at E 18th St   \n",
       "21916              181.0                            Grand Ave at Webster St   \n",
       "\n",
       "        start_station_latitude  start_station_longitude  end_station_id  \\\n",
       "81861                37.826286              -122.265100           180.0   \n",
       "135721               37.794130              -122.394430           133.0   \n",
       "93697                37.830223              -122.270950           190.0   \n",
       "72752                37.806163              -122.276040           186.0   \n",
       "135676               37.791464              -122.391034            62.0   \n",
       "104933               37.866043              -122.258804           252.0   \n",
       "167338               37.799953              -122.398525            15.0   \n",
       "69363                37.781074              -122.411738            20.0   \n",
       "109536               37.800214              -122.253810           200.0   \n",
       "21916                37.811377              -122.265192           197.0   \n",
       "\n",
       "                                         end_station_name  \\\n",
       "81861                            Telegraph Ave at 23rd St   \n",
       "135721                             Valencia St at 22nd St   \n",
       "93697                                  West St at 40th St   \n",
       "72752                              Lakeside Dr at 14th St   \n",
       "135676                        Victoria Manalo Draves Park   \n",
       "104933                       Channing Way at Shattuck Ave   \n",
       "167338  San Francisco Ferry Building (Harry Bridges Pl...   \n",
       "69363     Mechanics Monument Plaza (Market St at Bush St)   \n",
       "109536                               2nd Ave at E 18th St   \n",
       "21916                         El Embarcadero at Grand Ave   \n",
       "\n",
       "        end_station_latitude  end_station_longitude  bike_id   user_type  \\\n",
       "81861              37.812678            -122.268773     1107  Subscriber   \n",
       "135721             37.755213            -122.420975     4000  Subscriber   \n",
       "93697              37.830223            -122.270950     1420    Customer   \n",
       "72752              37.801319            -122.262642     1013  Subscriber   \n",
       "135676             37.777791            -122.406432     3491  Subscriber   \n",
       "104933             37.865847            -122.267443     2353  Subscriber   \n",
       "167338             37.795392            -122.394203     2618  Subscriber   \n",
       "69363              37.791300            -122.399051     4424  Subscriber   \n",
       "109536             37.800214            -122.253810     3064    Customer   \n",
       "21916              37.808848            -122.249680      426  Subscriber   \n",
       "\n",
       "        member_birth_year member_gender bike_share_for_all_trip  \n",
       "81861                 NaN           NaN                      No  \n",
       "135721             1974.0          Male                      No  \n",
       "93697              1996.0          Male                      No  \n",
       "72752              1968.0          Male                      No  \n",
       "135676             1984.0        Female                      No  \n",
       "104933             1996.0          Male                     Yes  \n",
       "167338             1967.0          Male                      No  \n",
       "69363              1976.0          Male                     Yes  \n",
       "109536             1995.0          Male                      No  \n",
       "21916              1989.0          Male                      No  "
      ]
     },
     "execution_count": 4,
     "metadata": {},
     "output_type": "execute_result"
    }
   ],
   "source": [
    "fordbike_2018.sample(10)"
   ]
  },
  {
   "cell_type": "code",
   "execution_count": 5,
   "metadata": {
    "slideshow": {
     "slide_type": "skip"
    }
   },
   "outputs": [
    {
     "data": {
      "text/plain": [
       "(1863721, 16)"
      ]
     },
     "execution_count": 5,
     "metadata": {},
     "output_type": "execute_result"
    }
   ],
   "source": [
    "fordbike_2018.shape"
   ]
  },
  {
   "cell_type": "code",
   "execution_count": 6,
   "metadata": {
    "slideshow": {
     "slide_type": "skip"
    }
   },
   "outputs": [
    {
     "data": {
      "text/plain": [
       "duration_sec                 int64\n",
       "start_time                  object\n",
       "end_time                    object\n",
       "start_station_id           float64\n",
       "start_station_name          object\n",
       "start_station_latitude     float64\n",
       "start_station_longitude    float64\n",
       "end_station_id             float64\n",
       "end_station_name            object\n",
       "end_station_latitude       float64\n",
       "end_station_longitude      float64\n",
       "bike_id                      int64\n",
       "user_type                   object\n",
       "member_birth_year          float64\n",
       "member_gender               object\n",
       "bike_share_for_all_trip     object\n",
       "dtype: object"
      ]
     },
     "execution_count": 6,
     "metadata": {},
     "output_type": "execute_result"
    }
   ],
   "source": [
    "fordbike_2018.dtypes"
   ]
  },
  {
   "cell_type": "code",
   "execution_count": 7,
   "metadata": {
    "slideshow": {
     "slide_type": "skip"
    }
   },
   "outputs": [],
   "source": [
    "fordbike_2018_clean = fordbike_2018.copy()"
   ]
  },
  {
   "cell_type": "code",
   "execution_count": 8,
   "metadata": {
    "slideshow": {
     "slide_type": "skip"
    }
   },
   "outputs": [],
   "source": [
    "# convert start station id, end station id and bike id to string\n",
    "fordbike_2018_clean.start_station_id = fordbike_2018_clean.start_station_id.astype(str)\n",
    "fordbike_2018_clean.end_station_id = fordbike_2018_clean.end_station_id.astype(str)\n",
    "fordbike_2018_clean.bike_id = fordbike_2018_clean.bike_id.astype(str)\n",
    "\n",
    "# convert start time and end time variables to timestamps\n",
    "fordbike_2018_clean.start_time =pd.to_datetime(fordbike_2018_clean['start_time'])\n",
    "fordbike_2018_clean.end_time =pd.to_datetime(fordbike_2018_clean['end_time'])\n",
    "\n",
    "# convert member_gender, user_type and bike_share_for_all_trip to categorical data types\n",
    "fordbike_2018_clean.user_type = fordbike_2018_clean.user_type.astype('category')\n",
    "fordbike_2018_clean.member_gender = fordbike_2018_clean.member_gender.astype('category')\n",
    "fordbike_2018_clean.bike_share_for_all_trip = fordbike_2018_clean.bike_share_for_all_trip.astype('category')"
   ]
  },
  {
   "cell_type": "code",
   "execution_count": 9,
   "metadata": {
    "slideshow": {
     "slide_type": "skip"
    }
   },
   "outputs": [],
   "source": [
    "# calculate age\n",
    "fordbike_2018_clean['member_age'] = 2019 - fordbike_2018_clean['member_birth_year']"
   ]
  },
  {
   "cell_type": "code",
   "execution_count": 10,
   "metadata": {
    "slideshow": {
     "slide_type": "skip"
    }
   },
   "outputs": [],
   "source": [
    "# create age groups\n",
    "fordbike_2018_clean['member_age_group'] = fordbike_2018_clean['member_age'].apply(lambda x: '18 - 30' if 18<x<=30\n",
    "                                                  else '31 - 40' if 30<x<=40\n",
    "                                                  else '41 - 50' if 40<x<=50\n",
    "                                                  else '51 +' if 50<x<=60\n",
    "                                                  else x)"
   ]
  },
  {
   "cell_type": "code",
   "execution_count": 11,
   "metadata": {
    "slideshow": {
     "slide_type": "skip"
    }
   },
   "outputs": [],
   "source": [
    "# convert member_age_group to categorical data types\n",
    "fordbike_2018_clean.member_age_group = fordbike_2018_clean.member_age_group.astype('category')"
   ]
  },
  {
   "cell_type": "code",
   "execution_count": 12,
   "metadata": {
    "slideshow": {
     "slide_type": "skip"
    }
   },
   "outputs": [],
   "source": [
    "# extract month, day of the week and hour from start time\n",
    "fordbike_2018_clean['start_time_month'] = fordbike_2018_clean['start_time'].dt.strftime(\"%B\")\n",
    "fordbike_2018_clean['start_time_dayofweek'] = fordbike_2018_clean['start_time'].dt.strftime(\"%A\")\n",
    "fordbike_2018_clean['start_time_hour'] = fordbike_2018_clean['start_time'].dt.strftime(\"%H\")"
   ]
  },
  {
   "cell_type": "code",
   "execution_count": 13,
   "metadata": {
    "slideshow": {
     "slide_type": "skip"
    }
   },
   "outputs": [],
   "source": [
    "# convert start_time_month, start_time_dayofweek and start_time_hour to categorical data types\n",
    "fordbike_2018_clean.start_time_month = fordbike_2018_clean.start_time_month.astype('category')\n",
    "fordbike_2018_clean.start_time_dayofweek = fordbike_2018_clean.start_time_dayofweek.astype('category')\n",
    "fordbike_2018_clean.start_time_hour = fordbike_2018_clean.start_time_hour.astype('category')"
   ]
  },
  {
   "cell_type": "code",
   "execution_count": 14,
   "metadata": {
    "slideshow": {
     "slide_type": "skip"
    }
   },
   "outputs": [
    {
     "data": {
      "text/html": [
       "<div>\n",
       "<style scoped>\n",
       "    .dataframe tbody tr th:only-of-type {\n",
       "        vertical-align: middle;\n",
       "    }\n",
       "\n",
       "    .dataframe tbody tr th {\n",
       "        vertical-align: top;\n",
       "    }\n",
       "\n",
       "    .dataframe thead th {\n",
       "        text-align: right;\n",
       "    }\n",
       "</style>\n",
       "<table border=\"1\" class=\"dataframe\">\n",
       "  <thead>\n",
       "    <tr style=\"text-align: right;\">\n",
       "      <th></th>\n",
       "      <th>duration_sec</th>\n",
       "      <th>start_time</th>\n",
       "      <th>end_time</th>\n",
       "      <th>start_station_id</th>\n",
       "      <th>start_station_name</th>\n",
       "      <th>start_station_latitude</th>\n",
       "      <th>start_station_longitude</th>\n",
       "      <th>end_station_id</th>\n",
       "      <th>end_station_name</th>\n",
       "      <th>end_station_latitude</th>\n",
       "      <th>...</th>\n",
       "      <th>bike_id</th>\n",
       "      <th>user_type</th>\n",
       "      <th>member_birth_year</th>\n",
       "      <th>member_gender</th>\n",
       "      <th>bike_share_for_all_trip</th>\n",
       "      <th>member_age</th>\n",
       "      <th>member_age_group</th>\n",
       "      <th>start_time_month</th>\n",
       "      <th>start_time_dayofweek</th>\n",
       "      <th>start_time_hour</th>\n",
       "    </tr>\n",
       "  </thead>\n",
       "  <tbody>\n",
       "    <tr>\n",
       "      <th>63016</th>\n",
       "      <td>742</td>\n",
       "      <td>2018-04-18 06:48:19.553</td>\n",
       "      <td>2018-04-18 07:00:41.863</td>\n",
       "      <td>109.0</td>\n",
       "      <td>17th St at Valencia St</td>\n",
       "      <td>37.763316</td>\n",
       "      <td>-122.421904</td>\n",
       "      <td>34.0</td>\n",
       "      <td>Father Alfred E Boeddeker Park</td>\n",
       "      <td>37.783988</td>\n",
       "      <td>...</td>\n",
       "      <td>3041</td>\n",
       "      <td>Subscriber</td>\n",
       "      <td>1984.0</td>\n",
       "      <td>Male</td>\n",
       "      <td>No</td>\n",
       "      <td>35.0</td>\n",
       "      <td>31 - 40</td>\n",
       "      <td>April</td>\n",
       "      <td>Wednesday</td>\n",
       "      <td>06</td>\n",
       "    </tr>\n",
       "    <tr>\n",
       "      <th>92580</th>\n",
       "      <td>562</td>\n",
       "      <td>2018-10-17 11:28:35.850</td>\n",
       "      <td>2018-10-17 11:37:58.742</td>\n",
       "      <td>36.0</td>\n",
       "      <td>Folsom St at 3rd St</td>\n",
       "      <td>37.783830</td>\n",
       "      <td>-122.398870</td>\n",
       "      <td>90.0</td>\n",
       "      <td>Townsend St at 7th St</td>\n",
       "      <td>37.771058</td>\n",
       "      <td>...</td>\n",
       "      <td>1673</td>\n",
       "      <td>Subscriber</td>\n",
       "      <td>1980.0</td>\n",
       "      <td>Male</td>\n",
       "      <td>No</td>\n",
       "      <td>39.0</td>\n",
       "      <td>31 - 40</td>\n",
       "      <td>October</td>\n",
       "      <td>Wednesday</td>\n",
       "      <td>11</td>\n",
       "    </tr>\n",
       "    <tr>\n",
       "      <th>89825</th>\n",
       "      <td>362</td>\n",
       "      <td>2018-09-17 09:55:29.440</td>\n",
       "      <td>2018-09-17 10:01:31.981</td>\n",
       "      <td>66.0</td>\n",
       "      <td>3rd St at Townsend St</td>\n",
       "      <td>37.778742</td>\n",
       "      <td>-122.392741</td>\n",
       "      <td>3.0</td>\n",
       "      <td>Powell St BART Station (Market St at 4th St)</td>\n",
       "      <td>37.786375</td>\n",
       "      <td>...</td>\n",
       "      <td>4462</td>\n",
       "      <td>Subscriber</td>\n",
       "      <td>1996.0</td>\n",
       "      <td>Male</td>\n",
       "      <td>No</td>\n",
       "      <td>23.0</td>\n",
       "      <td>18 - 30</td>\n",
       "      <td>September</td>\n",
       "      <td>Monday</td>\n",
       "      <td>09</td>\n",
       "    </tr>\n",
       "    <tr>\n",
       "      <th>165986</th>\n",
       "      <td>776</td>\n",
       "      <td>2018-08-05 12:14:31.150</td>\n",
       "      <td>2018-08-05 12:27:27.879</td>\n",
       "      <td>107.0</td>\n",
       "      <td>17th St at Dolores St</td>\n",
       "      <td>37.763015</td>\n",
       "      <td>-122.426497</td>\n",
       "      <td>74.0</td>\n",
       "      <td>Laguna St at Hayes St</td>\n",
       "      <td>37.776435</td>\n",
       "      <td>...</td>\n",
       "      <td>2585</td>\n",
       "      <td>Subscriber</td>\n",
       "      <td>1960.0</td>\n",
       "      <td>Female</td>\n",
       "      <td>No</td>\n",
       "      <td>59.0</td>\n",
       "      <td>51 +</td>\n",
       "      <td>August</td>\n",
       "      <td>Sunday</td>\n",
       "      <td>12</td>\n",
       "    </tr>\n",
       "    <tr>\n",
       "      <th>9515</th>\n",
       "      <td>578</td>\n",
       "      <td>2018-01-29 20:04:34.472</td>\n",
       "      <td>2018-01-29 20:14:12.928</td>\n",
       "      <td>15.0</td>\n",
       "      <td>San Francisco Ferry Building (Harry Bridges Pl...</td>\n",
       "      <td>37.795392</td>\n",
       "      <td>-122.394203</td>\n",
       "      <td>81.0</td>\n",
       "      <td>Berry St at 4th St</td>\n",
       "      <td>37.775880</td>\n",
       "      <td>...</td>\n",
       "      <td>3260</td>\n",
       "      <td>Subscriber</td>\n",
       "      <td>1986.0</td>\n",
       "      <td>Female</td>\n",
       "      <td>No</td>\n",
       "      <td>33.0</td>\n",
       "      <td>31 - 40</td>\n",
       "      <td>January</td>\n",
       "      <td>Monday</td>\n",
       "      <td>20</td>\n",
       "    </tr>\n",
       "    <tr>\n",
       "      <th>150097</th>\n",
       "      <td>678</td>\n",
       "      <td>2018-08-07 18:55:25.169</td>\n",
       "      <td>2018-08-07 19:06:43.529</td>\n",
       "      <td>nan</td>\n",
       "      <td>NaN</td>\n",
       "      <td>37.410000</td>\n",
       "      <td>-121.950000</td>\n",
       "      <td>nan</td>\n",
       "      <td>NaN</td>\n",
       "      <td>37.410000</td>\n",
       "      <td>...</td>\n",
       "      <td>4106</td>\n",
       "      <td>Customer</td>\n",
       "      <td>1988.0</td>\n",
       "      <td>Male</td>\n",
       "      <td>No</td>\n",
       "      <td>31.0</td>\n",
       "      <td>31 - 40</td>\n",
       "      <td>August</td>\n",
       "      <td>Tuesday</td>\n",
       "      <td>18</td>\n",
       "    </tr>\n",
       "    <tr>\n",
       "      <th>110177</th>\n",
       "      <td>771</td>\n",
       "      <td>2018-10-15 07:57:24.692</td>\n",
       "      <td>2018-10-15 08:10:15.734</td>\n",
       "      <td>30.0</td>\n",
       "      <td>San Francisco Caltrain (Townsend St at 4th St)</td>\n",
       "      <td>37.776598</td>\n",
       "      <td>-122.395282</td>\n",
       "      <td>22.0</td>\n",
       "      <td>Howard St at Beale St</td>\n",
       "      <td>37.789756</td>\n",
       "      <td>...</td>\n",
       "      <td>1516</td>\n",
       "      <td>Subscriber</td>\n",
       "      <td>1961.0</td>\n",
       "      <td>Male</td>\n",
       "      <td>No</td>\n",
       "      <td>58.0</td>\n",
       "      <td>51 +</td>\n",
       "      <td>October</td>\n",
       "      <td>Monday</td>\n",
       "      <td>07</td>\n",
       "    </tr>\n",
       "    <tr>\n",
       "      <th>43880</th>\n",
       "      <td>624</td>\n",
       "      <td>2018-12-18 21:09:21.611</td>\n",
       "      <td>2018-12-18 21:19:46.478</td>\n",
       "      <td>22.0</td>\n",
       "      <td>Howard St at Beale St</td>\n",
       "      <td>37.789756</td>\n",
       "      <td>-122.394643</td>\n",
       "      <td>345.0</td>\n",
       "      <td>Hubbell St at 16th St</td>\n",
       "      <td>37.766474</td>\n",
       "      <td>...</td>\n",
       "      <td>5458</td>\n",
       "      <td>Subscriber</td>\n",
       "      <td>1991.0</td>\n",
       "      <td>Male</td>\n",
       "      <td>No</td>\n",
       "      <td>28.0</td>\n",
       "      <td>18 - 30</td>\n",
       "      <td>December</td>\n",
       "      <td>Tuesday</td>\n",
       "      <td>21</td>\n",
       "    </tr>\n",
       "    <tr>\n",
       "      <th>37091</th>\n",
       "      <td>659</td>\n",
       "      <td>2018-07-26 06:19:01.793</td>\n",
       "      <td>2018-07-26 06:30:01.007</td>\n",
       "      <td>11.0</td>\n",
       "      <td>Davis St at Jackson St</td>\n",
       "      <td>37.797280</td>\n",
       "      <td>-122.398436</td>\n",
       "      <td>67.0</td>\n",
       "      <td>San Francisco Caltrain Station 2  (Townsend St...</td>\n",
       "      <td>37.776639</td>\n",
       "      <td>...</td>\n",
       "      <td>1730</td>\n",
       "      <td>Subscriber</td>\n",
       "      <td>1988.0</td>\n",
       "      <td>Male</td>\n",
       "      <td>No</td>\n",
       "      <td>31.0</td>\n",
       "      <td>31 - 40</td>\n",
       "      <td>July</td>\n",
       "      <td>Thursday</td>\n",
       "      <td>06</td>\n",
       "    </tr>\n",
       "    <tr>\n",
       "      <th>131087</th>\n",
       "      <td>1502</td>\n",
       "      <td>2018-12-01 09:00:00.908</td>\n",
       "      <td>2018-12-01 09:25:03.884</td>\n",
       "      <td>74.0</td>\n",
       "      <td>Laguna St at Hayes St</td>\n",
       "      <td>37.776435</td>\n",
       "      <td>-122.426244</td>\n",
       "      <td>74.0</td>\n",
       "      <td>Laguna St at Hayes St</td>\n",
       "      <td>37.776435</td>\n",
       "      <td>...</td>\n",
       "      <td>3574</td>\n",
       "      <td>Subscriber</td>\n",
       "      <td>1983.0</td>\n",
       "      <td>Female</td>\n",
       "      <td>No</td>\n",
       "      <td>36.0</td>\n",
       "      <td>31 - 40</td>\n",
       "      <td>December</td>\n",
       "      <td>Saturday</td>\n",
       "      <td>09</td>\n",
       "    </tr>\n",
       "    <tr>\n",
       "      <th>128742</th>\n",
       "      <td>508</td>\n",
       "      <td>2018-04-02 07:30:31.313</td>\n",
       "      <td>2018-04-02 07:38:59.596</td>\n",
       "      <td>109.0</td>\n",
       "      <td>17th St at Valencia St</td>\n",
       "      <td>37.763316</td>\n",
       "      <td>-122.421904</td>\n",
       "      <td>58.0</td>\n",
       "      <td>Market St at 10th St</td>\n",
       "      <td>37.776619</td>\n",
       "      <td>...</td>\n",
       "      <td>634</td>\n",
       "      <td>Subscriber</td>\n",
       "      <td>1960.0</td>\n",
       "      <td>Male</td>\n",
       "      <td>No</td>\n",
       "      <td>59.0</td>\n",
       "      <td>51 +</td>\n",
       "      <td>April</td>\n",
       "      <td>Monday</td>\n",
       "      <td>07</td>\n",
       "    </tr>\n",
       "    <tr>\n",
       "      <th>132181</th>\n",
       "      <td>184</td>\n",
       "      <td>2018-09-10 19:17:29.202</td>\n",
       "      <td>2018-09-10 19:20:34.089</td>\n",
       "      <td>134.0</td>\n",
       "      <td>Valencia St at 24th St</td>\n",
       "      <td>37.752428</td>\n",
       "      <td>-122.420628</td>\n",
       "      <td>121.0</td>\n",
       "      <td>Mission Playground</td>\n",
       "      <td>37.759210</td>\n",
       "      <td>...</td>\n",
       "      <td>4022</td>\n",
       "      <td>Subscriber</td>\n",
       "      <td>1984.0</td>\n",
       "      <td>Female</td>\n",
       "      <td>No</td>\n",
       "      <td>35.0</td>\n",
       "      <td>31 - 40</td>\n",
       "      <td>September</td>\n",
       "      <td>Monday</td>\n",
       "      <td>19</td>\n",
       "    </tr>\n",
       "    <tr>\n",
       "      <th>57288</th>\n",
       "      <td>1257</td>\n",
       "      <td>2018-12-16 20:00:40.334</td>\n",
       "      <td>2018-12-16 20:21:37.482</td>\n",
       "      <td>263.0</td>\n",
       "      <td>Channing Way at San Pablo Ave</td>\n",
       "      <td>37.862827</td>\n",
       "      <td>-122.290230</td>\n",
       "      <td>256.0</td>\n",
       "      <td>Hearst Ave at Euclid Ave</td>\n",
       "      <td>37.875112</td>\n",
       "      <td>...</td>\n",
       "      <td>4864</td>\n",
       "      <td>Subscriber</td>\n",
       "      <td>1998.0</td>\n",
       "      <td>Female</td>\n",
       "      <td>Yes</td>\n",
       "      <td>21.0</td>\n",
       "      <td>18 - 30</td>\n",
       "      <td>December</td>\n",
       "      <td>Sunday</td>\n",
       "      <td>20</td>\n",
       "    </tr>\n",
       "    <tr>\n",
       "      <th>116276</th>\n",
       "      <td>392</td>\n",
       "      <td>2018-09-12 19:22:34.291</td>\n",
       "      <td>2018-09-12 19:29:07.079</td>\n",
       "      <td>50.0</td>\n",
       "      <td>2nd St at Townsend St</td>\n",
       "      <td>37.780526</td>\n",
       "      <td>-122.390288</td>\n",
       "      <td>16.0</td>\n",
       "      <td>Steuart St at Market St</td>\n",
       "      <td>37.794130</td>\n",
       "      <td>...</td>\n",
       "      <td>2475</td>\n",
       "      <td>Subscriber</td>\n",
       "      <td>1991.0</td>\n",
       "      <td>Male</td>\n",
       "      <td>No</td>\n",
       "      <td>28.0</td>\n",
       "      <td>18 - 30</td>\n",
       "      <td>September</td>\n",
       "      <td>Wednesday</td>\n",
       "      <td>19</td>\n",
       "    </tr>\n",
       "    <tr>\n",
       "      <th>11386</th>\n",
       "      <td>163</td>\n",
       "      <td>2018-08-30 09:02:47.029</td>\n",
       "      <td>2018-08-30 09:05:30.686</td>\n",
       "      <td>255.0</td>\n",
       "      <td>Virginia St at Shattuck Ave</td>\n",
       "      <td>37.876573</td>\n",
       "      <td>-122.269528</td>\n",
       "      <td>244.0</td>\n",
       "      <td>Shattuck Ave at Hearst Ave</td>\n",
       "      <td>37.873792</td>\n",
       "      <td>...</td>\n",
       "      <td>3600</td>\n",
       "      <td>Subscriber</td>\n",
       "      <td>1997.0</td>\n",
       "      <td>Male</td>\n",
       "      <td>Yes</td>\n",
       "      <td>22.0</td>\n",
       "      <td>18 - 30</td>\n",
       "      <td>August</td>\n",
       "      <td>Thursday</td>\n",
       "      <td>09</td>\n",
       "    </tr>\n",
       "    <tr>\n",
       "      <th>96379</th>\n",
       "      <td>1149</td>\n",
       "      <td>2018-10-16 19:30:14.752</td>\n",
       "      <td>2018-10-16 19:49:24.326</td>\n",
       "      <td>6.0</td>\n",
       "      <td>The Embarcadero at Sansome St</td>\n",
       "      <td>37.804770</td>\n",
       "      <td>-122.403234</td>\n",
       "      <td>47.0</td>\n",
       "      <td>4th St at Harrison St</td>\n",
       "      <td>37.780955</td>\n",
       "      <td>...</td>\n",
       "      <td>799</td>\n",
       "      <td>Subscriber</td>\n",
       "      <td>1992.0</td>\n",
       "      <td>Female</td>\n",
       "      <td>No</td>\n",
       "      <td>27.0</td>\n",
       "      <td>18 - 30</td>\n",
       "      <td>October</td>\n",
       "      <td>Tuesday</td>\n",
       "      <td>19</td>\n",
       "    </tr>\n",
       "    <tr>\n",
       "      <th>129403</th>\n",
       "      <td>421</td>\n",
       "      <td>2018-11-01 17:05:04.768</td>\n",
       "      <td>2018-11-01 17:12:05.841</td>\n",
       "      <td>58.0</td>\n",
       "      <td>Market St at 10th St</td>\n",
       "      <td>37.776619</td>\n",
       "      <td>-122.417385</td>\n",
       "      <td>89.0</td>\n",
       "      <td>Division St at Potrero Ave</td>\n",
       "      <td>37.769218</td>\n",
       "      <td>...</td>\n",
       "      <td>1296</td>\n",
       "      <td>Subscriber</td>\n",
       "      <td>1989.0</td>\n",
       "      <td>Male</td>\n",
       "      <td>No</td>\n",
       "      <td>30.0</td>\n",
       "      <td>18 - 30</td>\n",
       "      <td>November</td>\n",
       "      <td>Thursday</td>\n",
       "      <td>17</td>\n",
       "    </tr>\n",
       "    <tr>\n",
       "      <th>92742</th>\n",
       "      <td>290</td>\n",
       "      <td>2018-07-18 07:40:31.747</td>\n",
       "      <td>2018-07-18 07:45:22.254</td>\n",
       "      <td>188.0</td>\n",
       "      <td>Dover St at 57th St</td>\n",
       "      <td>37.842630</td>\n",
       "      <td>-122.267738</td>\n",
       "      <td>241.0</td>\n",
       "      <td>Ashby BART Station</td>\n",
       "      <td>37.852477</td>\n",
       "      <td>...</td>\n",
       "      <td>2820</td>\n",
       "      <td>Subscriber</td>\n",
       "      <td>1976.0</td>\n",
       "      <td>Male</td>\n",
       "      <td>No</td>\n",
       "      <td>43.0</td>\n",
       "      <td>41 - 50</td>\n",
       "      <td>July</td>\n",
       "      <td>Wednesday</td>\n",
       "      <td>07</td>\n",
       "    </tr>\n",
       "    <tr>\n",
       "      <th>90385</th>\n",
       "      <td>457</td>\n",
       "      <td>2018-12-10 12:17:52.389</td>\n",
       "      <td>2018-12-10 12:25:29.480</td>\n",
       "      <td>201.0</td>\n",
       "      <td>10th St at Fallon St</td>\n",
       "      <td>37.797673</td>\n",
       "      <td>-122.262997</td>\n",
       "      <td>162.0</td>\n",
       "      <td>Franklin St at 9th St</td>\n",
       "      <td>37.800516</td>\n",
       "      <td>...</td>\n",
       "      <td>848</td>\n",
       "      <td>Subscriber</td>\n",
       "      <td>1993.0</td>\n",
       "      <td>Female</td>\n",
       "      <td>No</td>\n",
       "      <td>26.0</td>\n",
       "      <td>18 - 30</td>\n",
       "      <td>December</td>\n",
       "      <td>Monday</td>\n",
       "      <td>12</td>\n",
       "    </tr>\n",
       "    <tr>\n",
       "      <th>88679</th>\n",
       "      <td>130</td>\n",
       "      <td>2018-06-18 09:04:22.857</td>\n",
       "      <td>2018-06-18 09:06:33.588</td>\n",
       "      <td>180.0</td>\n",
       "      <td>Telegraph Ave at 23rd St</td>\n",
       "      <td>37.812678</td>\n",
       "      <td>-122.268773</td>\n",
       "      <td>182.0</td>\n",
       "      <td>19th Street BART Station</td>\n",
       "      <td>37.809013</td>\n",
       "      <td>...</td>\n",
       "      <td>152</td>\n",
       "      <td>Subscriber</td>\n",
       "      <td>1993.0</td>\n",
       "      <td>Male</td>\n",
       "      <td>No</td>\n",
       "      <td>26.0</td>\n",
       "      <td>18 - 30</td>\n",
       "      <td>June</td>\n",
       "      <td>Monday</td>\n",
       "      <td>09</td>\n",
       "    </tr>\n",
       "    <tr>\n",
       "      <th>82311</th>\n",
       "      <td>433</td>\n",
       "      <td>2018-04-12 20:21:56.159</td>\n",
       "      <td>2018-04-12 20:29:09.807</td>\n",
       "      <td>16.0</td>\n",
       "      <td>Steuart St at Market St</td>\n",
       "      <td>37.794130</td>\n",
       "      <td>-122.394430</td>\n",
       "      <td>10.0</td>\n",
       "      <td>Washington St at Kearny St</td>\n",
       "      <td>37.795393</td>\n",
       "      <td>...</td>\n",
       "      <td>2589</td>\n",
       "      <td>Subscriber</td>\n",
       "      <td>1989.0</td>\n",
       "      <td>Male</td>\n",
       "      <td>No</td>\n",
       "      <td>30.0</td>\n",
       "      <td>18 - 30</td>\n",
       "      <td>April</td>\n",
       "      <td>Thursday</td>\n",
       "      <td>20</td>\n",
       "    </tr>\n",
       "    <tr>\n",
       "      <th>176625</th>\n",
       "      <td>995</td>\n",
       "      <td>2018-09-03 18:43:59.405</td>\n",
       "      <td>2018-09-03 19:00:34.594</td>\n",
       "      <td>52.0</td>\n",
       "      <td>McAllister St at Baker St</td>\n",
       "      <td>37.777416</td>\n",
       "      <td>-122.441838</td>\n",
       "      <td>76.0</td>\n",
       "      <td>McCoppin St at Valencia St</td>\n",
       "      <td>37.771662</td>\n",
       "      <td>...</td>\n",
       "      <td>4345</td>\n",
       "      <td>Subscriber</td>\n",
       "      <td>1981.0</td>\n",
       "      <td>Female</td>\n",
       "      <td>No</td>\n",
       "      <td>38.0</td>\n",
       "      <td>31 - 40</td>\n",
       "      <td>September</td>\n",
       "      <td>Monday</td>\n",
       "      <td>18</td>\n",
       "    </tr>\n",
       "    <tr>\n",
       "      <th>105135</th>\n",
       "      <td>688</td>\n",
       "      <td>2018-10-15 18:09:12.063</td>\n",
       "      <td>2018-10-15 18:20:40.524</td>\n",
       "      <td>93.0</td>\n",
       "      <td>4th St at Mission Bay Blvd S</td>\n",
       "      <td>37.770407</td>\n",
       "      <td>-122.391198</td>\n",
       "      <td>27.0</td>\n",
       "      <td>Beale St at Harrison St</td>\n",
       "      <td>37.788059</td>\n",
       "      <td>...</td>\n",
       "      <td>1019</td>\n",
       "      <td>Subscriber</td>\n",
       "      <td>1989.0</td>\n",
       "      <td>Male</td>\n",
       "      <td>No</td>\n",
       "      <td>30.0</td>\n",
       "      <td>18 - 30</td>\n",
       "      <td>October</td>\n",
       "      <td>Monday</td>\n",
       "      <td>18</td>\n",
       "    </tr>\n",
       "    <tr>\n",
       "      <th>172222</th>\n",
       "      <td>385</td>\n",
       "      <td>2018-08-03 18:31:51.389</td>\n",
       "      <td>2018-08-03 18:38:17.087</td>\n",
       "      <td>80.0</td>\n",
       "      <td>Townsend St at 5th St</td>\n",
       "      <td>37.775306</td>\n",
       "      <td>-122.397380</td>\n",
       "      <td>78.0</td>\n",
       "      <td>Folsom St at 9th St</td>\n",
       "      <td>37.773717</td>\n",
       "      <td>...</td>\n",
       "      <td>2529</td>\n",
       "      <td>Subscriber</td>\n",
       "      <td>1998.0</td>\n",
       "      <td>Male</td>\n",
       "      <td>No</td>\n",
       "      <td>21.0</td>\n",
       "      <td>18 - 30</td>\n",
       "      <td>August</td>\n",
       "      <td>Friday</td>\n",
       "      <td>18</td>\n",
       "    </tr>\n",
       "    <tr>\n",
       "      <th>51129</th>\n",
       "      <td>163</td>\n",
       "      <td>2018-02-14 09:55:45.336</td>\n",
       "      <td>2018-02-14 09:58:29.264</td>\n",
       "      <td>62.0</td>\n",
       "      <td>Victoria Manalo Draves Park</td>\n",
       "      <td>37.777791</td>\n",
       "      <td>-122.406432</td>\n",
       "      <td>47.0</td>\n",
       "      <td>4th St at Harrison St</td>\n",
       "      <td>37.780955</td>\n",
       "      <td>...</td>\n",
       "      <td>1128</td>\n",
       "      <td>Subscriber</td>\n",
       "      <td>1987.0</td>\n",
       "      <td>Male</td>\n",
       "      <td>No</td>\n",
       "      <td>32.0</td>\n",
       "      <td>31 - 40</td>\n",
       "      <td>February</td>\n",
       "      <td>Wednesday</td>\n",
       "      <td>09</td>\n",
       "    </tr>\n",
       "    <tr>\n",
       "      <th>88760</th>\n",
       "      <td>266</td>\n",
       "      <td>2018-11-08 08:09:08.808</td>\n",
       "      <td>2018-11-08 08:13:35.407</td>\n",
       "      <td>287.0</td>\n",
       "      <td>Almaden Blvd at Balbach St</td>\n",
       "      <td>37.326730</td>\n",
       "      <td>-121.889273</td>\n",
       "      <td>313.0</td>\n",
       "      <td>Almaden Blvd at San Fernando St</td>\n",
       "      <td>37.331415</td>\n",
       "      <td>...</td>\n",
       "      <td>190</td>\n",
       "      <td>Subscriber</td>\n",
       "      <td>1993.0</td>\n",
       "      <td>Male</td>\n",
       "      <td>No</td>\n",
       "      <td>26.0</td>\n",
       "      <td>18 - 30</td>\n",
       "      <td>November</td>\n",
       "      <td>Thursday</td>\n",
       "      <td>08</td>\n",
       "    </tr>\n",
       "    <tr>\n",
       "      <th>8350</th>\n",
       "      <td>780</td>\n",
       "      <td>2018-10-30 19:00:47.919</td>\n",
       "      <td>2018-10-30 19:13:48.350</td>\n",
       "      <td>3.0</td>\n",
       "      <td>Powell St BART Station (Market St at 4th St)</td>\n",
       "      <td>37.786375</td>\n",
       "      <td>-122.404904</td>\n",
       "      <td>55.0</td>\n",
       "      <td>Webster St at Grove St</td>\n",
       "      <td>37.777053</td>\n",
       "      <td>...</td>\n",
       "      <td>3531</td>\n",
       "      <td>Subscriber</td>\n",
       "      <td>1991.0</td>\n",
       "      <td>Male</td>\n",
       "      <td>No</td>\n",
       "      <td>28.0</td>\n",
       "      <td>18 - 30</td>\n",
       "      <td>October</td>\n",
       "      <td>Tuesday</td>\n",
       "      <td>19</td>\n",
       "    </tr>\n",
       "    <tr>\n",
       "      <th>102674</th>\n",
       "      <td>703</td>\n",
       "      <td>2018-04-08 17:31:10.232</td>\n",
       "      <td>2018-04-08 17:42:54.091</td>\n",
       "      <td>126.0</td>\n",
       "      <td>Esprit Park</td>\n",
       "      <td>37.761634</td>\n",
       "      <td>-122.390648</td>\n",
       "      <td>112.0</td>\n",
       "      <td>Harrison St at 17th St</td>\n",
       "      <td>37.763847</td>\n",
       "      <td>...</td>\n",
       "      <td>992</td>\n",
       "      <td>Subscriber</td>\n",
       "      <td>1989.0</td>\n",
       "      <td>Female</td>\n",
       "      <td>No</td>\n",
       "      <td>30.0</td>\n",
       "      <td>18 - 30</td>\n",
       "      <td>April</td>\n",
       "      <td>Sunday</td>\n",
       "      <td>17</td>\n",
       "    </tr>\n",
       "    <tr>\n",
       "      <th>119359</th>\n",
       "      <td>705</td>\n",
       "      <td>2018-09-12 13:52:53.248</td>\n",
       "      <td>2018-09-12 14:04:38.615</td>\n",
       "      <td>50.0</td>\n",
       "      <td>2nd St at Townsend St</td>\n",
       "      <td>37.780526</td>\n",
       "      <td>-122.390288</td>\n",
       "      <td>22.0</td>\n",
       "      <td>Howard St at Beale St</td>\n",
       "      <td>37.789756</td>\n",
       "      <td>...</td>\n",
       "      <td>1737</td>\n",
       "      <td>Subscriber</td>\n",
       "      <td>1963.0</td>\n",
       "      <td>Male</td>\n",
       "      <td>No</td>\n",
       "      <td>56.0</td>\n",
       "      <td>51 +</td>\n",
       "      <td>September</td>\n",
       "      <td>Wednesday</td>\n",
       "      <td>13</td>\n",
       "    </tr>\n",
       "    <tr>\n",
       "      <th>89990</th>\n",
       "      <td>223</td>\n",
       "      <td>2018-04-11 09:14:05.326</td>\n",
       "      <td>2018-04-11 09:17:48.701</td>\n",
       "      <td>244.0</td>\n",
       "      <td>Shattuck Ave at Hearst Ave</td>\n",
       "      <td>37.873792</td>\n",
       "      <td>-122.268618</td>\n",
       "      <td>254.0</td>\n",
       "      <td>Vine St at Shattuck Ave</td>\n",
       "      <td>37.880222</td>\n",
       "      <td>...</td>\n",
       "      <td>2631</td>\n",
       "      <td>Subscriber</td>\n",
       "      <td>1984.0</td>\n",
       "      <td>Male</td>\n",
       "      <td>No</td>\n",
       "      <td>35.0</td>\n",
       "      <td>31 - 40</td>\n",
       "      <td>April</td>\n",
       "      <td>Wednesday</td>\n",
       "      <td>09</td>\n",
       "    </tr>\n",
       "    <tr>\n",
       "      <th>72476</th>\n",
       "      <td>332</td>\n",
       "      <td>2018-07-20 17:13:42.655</td>\n",
       "      <td>2018-07-20 17:19:14.729</td>\n",
       "      <td>77.0</td>\n",
       "      <td>11th St at Natoma St</td>\n",
       "      <td>37.773507</td>\n",
       "      <td>-122.416040</td>\n",
       "      <td>112.0</td>\n",
       "      <td>Harrison St at 17th St</td>\n",
       "      <td>37.763847</td>\n",
       "      <td>...</td>\n",
       "      <td>3017</td>\n",
       "      <td>Subscriber</td>\n",
       "      <td>1984.0</td>\n",
       "      <td>Female</td>\n",
       "      <td>No</td>\n",
       "      <td>35.0</td>\n",
       "      <td>31 - 40</td>\n",
       "      <td>July</td>\n",
       "      <td>Friday</td>\n",
       "      <td>17</td>\n",
       "    </tr>\n",
       "    <tr>\n",
       "      <th>149745</th>\n",
       "      <td>568</td>\n",
       "      <td>2018-05-05 20:04:24.926</td>\n",
       "      <td>2018-05-05 20:13:53.497</td>\n",
       "      <td>201.0</td>\n",
       "      <td>10th St at Fallon St</td>\n",
       "      <td>37.797673</td>\n",
       "      <td>-122.262997</td>\n",
       "      <td>200.0</td>\n",
       "      <td>2nd Ave at E 18th St</td>\n",
       "      <td>37.800214</td>\n",
       "      <td>...</td>\n",
       "      <td>2778</td>\n",
       "      <td>Subscriber</td>\n",
       "      <td>1954.0</td>\n",
       "      <td>Male</td>\n",
       "      <td>No</td>\n",
       "      <td>65.0</td>\n",
       "      <td>65</td>\n",
       "      <td>May</td>\n",
       "      <td>Saturday</td>\n",
       "      <td>20</td>\n",
       "    </tr>\n",
       "    <tr>\n",
       "      <th>15205</th>\n",
       "      <td>355</td>\n",
       "      <td>2018-09-28 08:05:57.036</td>\n",
       "      <td>2018-09-28 08:11:53.026</td>\n",
       "      <td>124.0</td>\n",
       "      <td>19th St at Florida St</td>\n",
       "      <td>37.760447</td>\n",
       "      <td>-122.410807</td>\n",
       "      <td>109.0</td>\n",
       "      <td>17th St at Valencia St</td>\n",
       "      <td>37.763316</td>\n",
       "      <td>...</td>\n",
       "      <td>1213</td>\n",
       "      <td>Subscriber</td>\n",
       "      <td>1979.0</td>\n",
       "      <td>Female</td>\n",
       "      <td>No</td>\n",
       "      <td>40.0</td>\n",
       "      <td>31 - 40</td>\n",
       "      <td>September</td>\n",
       "      <td>Friday</td>\n",
       "      <td>08</td>\n",
       "    </tr>\n",
       "    <tr>\n",
       "      <th>31493</th>\n",
       "      <td>430</td>\n",
       "      <td>2018-08-27 11:51:04.224</td>\n",
       "      <td>2018-08-27 11:58:14.741</td>\n",
       "      <td>15.0</td>\n",
       "      <td>San Francisco Ferry Building (Harry Bridges Pl...</td>\n",
       "      <td>37.795392</td>\n",
       "      <td>-122.394203</td>\n",
       "      <td>50.0</td>\n",
       "      <td>2nd St at Townsend St</td>\n",
       "      <td>37.780526</td>\n",
       "      <td>...</td>\n",
       "      <td>3944</td>\n",
       "      <td>Subscriber</td>\n",
       "      <td>1982.0</td>\n",
       "      <td>Male</td>\n",
       "      <td>No</td>\n",
       "      <td>37.0</td>\n",
       "      <td>31 - 40</td>\n",
       "      <td>August</td>\n",
       "      <td>Monday</td>\n",
       "      <td>11</td>\n",
       "    </tr>\n",
       "    <tr>\n",
       "      <th>112930</th>\n",
       "      <td>990</td>\n",
       "      <td>2018-10-14 14:18:42.890</td>\n",
       "      <td>2018-10-14 14:35:13.852</td>\n",
       "      <td>140.0</td>\n",
       "      <td>Cesar Chavez St at Dolores St</td>\n",
       "      <td>37.747858</td>\n",
       "      <td>-122.424986</td>\n",
       "      <td>134.0</td>\n",
       "      <td>Valencia St at 24th St</td>\n",
       "      <td>37.752428</td>\n",
       "      <td>...</td>\n",
       "      <td>3955</td>\n",
       "      <td>Subscriber</td>\n",
       "      <td>1988.0</td>\n",
       "      <td>Male</td>\n",
       "      <td>No</td>\n",
       "      <td>31.0</td>\n",
       "      <td>31 - 40</td>\n",
       "      <td>October</td>\n",
       "      <td>Sunday</td>\n",
       "      <td>14</td>\n",
       "    </tr>\n",
       "    <tr>\n",
       "      <th>49657</th>\n",
       "      <td>994</td>\n",
       "      <td>2018-05-23 08:46:00.251</td>\n",
       "      <td>2018-05-23 09:02:35.197</td>\n",
       "      <td>126.0</td>\n",
       "      <td>Esprit Park</td>\n",
       "      <td>37.761634</td>\n",
       "      <td>-122.390648</td>\n",
       "      <td>77.0</td>\n",
       "      <td>11th St at Natoma St</td>\n",
       "      <td>37.773507</td>\n",
       "      <td>...</td>\n",
       "      <td>4066</td>\n",
       "      <td>Subscriber</td>\n",
       "      <td>1984.0</td>\n",
       "      <td>Female</td>\n",
       "      <td>No</td>\n",
       "      <td>35.0</td>\n",
       "      <td>31 - 40</td>\n",
       "      <td>May</td>\n",
       "      <td>Wednesday</td>\n",
       "      <td>08</td>\n",
       "    </tr>\n",
       "    <tr>\n",
       "      <th>187759</th>\n",
       "      <td>327</td>\n",
       "      <td>2018-07-03 09:04:16.694</td>\n",
       "      <td>2018-07-03 09:09:44.420</td>\n",
       "      <td>195.0</td>\n",
       "      <td>Bay Pl at Vernon St</td>\n",
       "      <td>37.812314</td>\n",
       "      <td>-122.260779</td>\n",
       "      <td>182.0</td>\n",
       "      <td>19th Street BART Station</td>\n",
       "      <td>37.809013</td>\n",
       "      <td>...</td>\n",
       "      <td>3282</td>\n",
       "      <td>Subscriber</td>\n",
       "      <td>1974.0</td>\n",
       "      <td>Male</td>\n",
       "      <td>No</td>\n",
       "      <td>45.0</td>\n",
       "      <td>41 - 50</td>\n",
       "      <td>July</td>\n",
       "      <td>Tuesday</td>\n",
       "      <td>09</td>\n",
       "    </tr>\n",
       "    <tr>\n",
       "      <th>2791</th>\n",
       "      <td>354</td>\n",
       "      <td>2018-04-30 16:33:32.942</td>\n",
       "      <td>2018-04-30 16:39:27.443</td>\n",
       "      <td>6.0</td>\n",
       "      <td>The Embarcadero at Sansome St</td>\n",
       "      <td>37.804770</td>\n",
       "      <td>-122.403234</td>\n",
       "      <td>15.0</td>\n",
       "      <td>San Francisco Ferry Building (Harry Bridges Pl...</td>\n",
       "      <td>37.795392</td>\n",
       "      <td>...</td>\n",
       "      <td>1692</td>\n",
       "      <td>Subscriber</td>\n",
       "      <td>1963.0</td>\n",
       "      <td>Female</td>\n",
       "      <td>No</td>\n",
       "      <td>56.0</td>\n",
       "      <td>51 +</td>\n",
       "      <td>April</td>\n",
       "      <td>Monday</td>\n",
       "      <td>16</td>\n",
       "    </tr>\n",
       "    <tr>\n",
       "      <th>68212</th>\n",
       "      <td>1772</td>\n",
       "      <td>2018-05-19 18:07:17.755</td>\n",
       "      <td>2018-05-19 18:36:50.522</td>\n",
       "      <td>86.0</td>\n",
       "      <td>Market St at Dolores St</td>\n",
       "      <td>37.769305</td>\n",
       "      <td>-122.426826</td>\n",
       "      <td>132.0</td>\n",
       "      <td>24th St at Chattanooga St</td>\n",
       "      <td>37.751819</td>\n",
       "      <td>...</td>\n",
       "      <td>3989</td>\n",
       "      <td>Subscriber</td>\n",
       "      <td>1986.0</td>\n",
       "      <td>Male</td>\n",
       "      <td>No</td>\n",
       "      <td>33.0</td>\n",
       "      <td>31 - 40</td>\n",
       "      <td>May</td>\n",
       "      <td>Saturday</td>\n",
       "      <td>18</td>\n",
       "    </tr>\n",
       "    <tr>\n",
       "      <th>57002</th>\n",
       "      <td>514</td>\n",
       "      <td>2018-01-15 21:07:48.326</td>\n",
       "      <td>2018-01-15 21:16:22.620</td>\n",
       "      <td>182.0</td>\n",
       "      <td>19th Street BART Station</td>\n",
       "      <td>37.809013</td>\n",
       "      <td>-122.268247</td>\n",
       "      <td>202.0</td>\n",
       "      <td>Washington St at 8th St</td>\n",
       "      <td>37.800754</td>\n",
       "      <td>...</td>\n",
       "      <td>2638</td>\n",
       "      <td>Subscriber</td>\n",
       "      <td>1985.0</td>\n",
       "      <td>Female</td>\n",
       "      <td>No</td>\n",
       "      <td>34.0</td>\n",
       "      <td>31 - 40</td>\n",
       "      <td>January</td>\n",
       "      <td>Monday</td>\n",
       "      <td>21</td>\n",
       "    </tr>\n",
       "    <tr>\n",
       "      <th>172429</th>\n",
       "      <td>426</td>\n",
       "      <td>2018-08-03 18:12:27.121</td>\n",
       "      <td>2018-08-03 18:19:33.653</td>\n",
       "      <td>44.0</td>\n",
       "      <td>Civic Center/UN Plaza BART Station (Market St ...</td>\n",
       "      <td>37.781074</td>\n",
       "      <td>-122.411738</td>\n",
       "      <td>60.0</td>\n",
       "      <td>8th St at Ringold St</td>\n",
       "      <td>37.774520</td>\n",
       "      <td>...</td>\n",
       "      <td>421</td>\n",
       "      <td>Subscriber</td>\n",
       "      <td>1990.0</td>\n",
       "      <td>Male</td>\n",
       "      <td>No</td>\n",
       "      <td>29.0</td>\n",
       "      <td>18 - 30</td>\n",
       "      <td>August</td>\n",
       "      <td>Friday</td>\n",
       "      <td>18</td>\n",
       "    </tr>\n",
       "    <tr>\n",
       "      <th>99423</th>\n",
       "      <td>435</td>\n",
       "      <td>2018-09-15 09:43:10.652</td>\n",
       "      <td>2018-09-15 09:50:25.924</td>\n",
       "      <td>176.0</td>\n",
       "      <td>MacArthur BART Station</td>\n",
       "      <td>37.828410</td>\n",
       "      <td>-122.266315</td>\n",
       "      <td>189.0</td>\n",
       "      <td>Genoa St at 55th St</td>\n",
       "      <td>37.839649</td>\n",
       "      <td>...</td>\n",
       "      <td>1986</td>\n",
       "      <td>Subscriber</td>\n",
       "      <td>1989.0</td>\n",
       "      <td>Male</td>\n",
       "      <td>No</td>\n",
       "      <td>30.0</td>\n",
       "      <td>18 - 30</td>\n",
       "      <td>September</td>\n",
       "      <td>Saturday</td>\n",
       "      <td>09</td>\n",
       "    </tr>\n",
       "    <tr>\n",
       "      <th>78701</th>\n",
       "      <td>167</td>\n",
       "      <td>2018-07-19 18:50:54.376</td>\n",
       "      <td>2018-07-19 18:53:41.662</td>\n",
       "      <td>30.0</td>\n",
       "      <td>San Francisco Caltrain (Townsend St at 4th St)</td>\n",
       "      <td>37.776598</td>\n",
       "      <td>-122.395282</td>\n",
       "      <td>50.0</td>\n",
       "      <td>2nd St at Townsend St</td>\n",
       "      <td>37.780526</td>\n",
       "      <td>...</td>\n",
       "      <td>2810</td>\n",
       "      <td>Subscriber</td>\n",
       "      <td>1974.0</td>\n",
       "      <td>Female</td>\n",
       "      <td>No</td>\n",
       "      <td>45.0</td>\n",
       "      <td>41 - 50</td>\n",
       "      <td>July</td>\n",
       "      <td>Thursday</td>\n",
       "      <td>18</td>\n",
       "    </tr>\n",
       "    <tr>\n",
       "      <th>66983</th>\n",
       "      <td>627</td>\n",
       "      <td>2018-03-14 08:57:24.307</td>\n",
       "      <td>2018-03-14 09:07:51.501</td>\n",
       "      <td>67.0</td>\n",
       "      <td>San Francisco Caltrain Station 2  (Townsend St...</td>\n",
       "      <td>37.776639</td>\n",
       "      <td>-122.395526</td>\n",
       "      <td>21.0</td>\n",
       "      <td>Montgomery St BART Station (Market St at 2nd St)</td>\n",
       "      <td>37.789625</td>\n",
       "      <td>...</td>\n",
       "      <td>3387</td>\n",
       "      <td>Subscriber</td>\n",
       "      <td>1986.0</td>\n",
       "      <td>Female</td>\n",
       "      <td>No</td>\n",
       "      <td>33.0</td>\n",
       "      <td>31 - 40</td>\n",
       "      <td>March</td>\n",
       "      <td>Wednesday</td>\n",
       "      <td>08</td>\n",
       "    </tr>\n",
       "    <tr>\n",
       "      <th>194272</th>\n",
       "      <td>1202</td>\n",
       "      <td>2018-07-02 09:12:07.431</td>\n",
       "      <td>2018-07-02 09:32:09.551</td>\n",
       "      <td>102.0</td>\n",
       "      <td>Irwin St at 8th St</td>\n",
       "      <td>37.766883</td>\n",
       "      <td>-122.399579</td>\n",
       "      <td>6.0</td>\n",
       "      <td>The Embarcadero at Sansome St</td>\n",
       "      <td>37.804770</td>\n",
       "      <td>...</td>\n",
       "      <td>3922</td>\n",
       "      <td>Subscriber</td>\n",
       "      <td>1988.0</td>\n",
       "      <td>Male</td>\n",
       "      <td>No</td>\n",
       "      <td>31.0</td>\n",
       "      <td>31 - 40</td>\n",
       "      <td>July</td>\n",
       "      <td>Monday</td>\n",
       "      <td>09</td>\n",
       "    </tr>\n",
       "    <tr>\n",
       "      <th>4110</th>\n",
       "      <td>780</td>\n",
       "      <td>2018-09-29 23:17:38.378</td>\n",
       "      <td>2018-09-29 23:30:38.693</td>\n",
       "      <td>nan</td>\n",
       "      <td>NaN</td>\n",
       "      <td>37.410000</td>\n",
       "      <td>-121.960000</td>\n",
       "      <td>nan</td>\n",
       "      <td>NaN</td>\n",
       "      <td>37.420000</td>\n",
       "      <td>...</td>\n",
       "      <td>4088</td>\n",
       "      <td>Customer</td>\n",
       "      <td>1988.0</td>\n",
       "      <td>Male</td>\n",
       "      <td>No</td>\n",
       "      <td>31.0</td>\n",
       "      <td>31 - 40</td>\n",
       "      <td>September</td>\n",
       "      <td>Saturday</td>\n",
       "      <td>23</td>\n",
       "    </tr>\n",
       "    <tr>\n",
       "      <th>175244</th>\n",
       "      <td>614</td>\n",
       "      <td>2018-10-04 14:03:30.117</td>\n",
       "      <td>2018-10-04 14:13:44.651</td>\n",
       "      <td>84.0</td>\n",
       "      <td>Duboce Park</td>\n",
       "      <td>37.769201</td>\n",
       "      <td>-122.433812</td>\n",
       "      <td>31.0</td>\n",
       "      <td>Raymond Kimbell Playground</td>\n",
       "      <td>37.783813</td>\n",
       "      <td>...</td>\n",
       "      <td>2560</td>\n",
       "      <td>Subscriber</td>\n",
       "      <td>1985.0</td>\n",
       "      <td>Male</td>\n",
       "      <td>No</td>\n",
       "      <td>34.0</td>\n",
       "      <td>31 - 40</td>\n",
       "      <td>October</td>\n",
       "      <td>Thursday</td>\n",
       "      <td>14</td>\n",
       "    </tr>\n",
       "    <tr>\n",
       "      <th>64345</th>\n",
       "      <td>1807</td>\n",
       "      <td>2018-06-21 13:53:29.929</td>\n",
       "      <td>2018-06-21 14:23:37.551</td>\n",
       "      <td>349.0</td>\n",
       "      <td>Howard St at Mary St</td>\n",
       "      <td>37.781010</td>\n",
       "      <td>-122.405666</td>\n",
       "      <td>27.0</td>\n",
       "      <td>Beale St at Harrison St</td>\n",
       "      <td>37.788059</td>\n",
       "      <td>...</td>\n",
       "      <td>2689</td>\n",
       "      <td>Customer</td>\n",
       "      <td>1987.0</td>\n",
       "      <td>Male</td>\n",
       "      <td>No</td>\n",
       "      <td>32.0</td>\n",
       "      <td>31 - 40</td>\n",
       "      <td>June</td>\n",
       "      <td>Thursday</td>\n",
       "      <td>13</td>\n",
       "    </tr>\n",
       "    <tr>\n",
       "      <th>90275</th>\n",
       "      <td>409</td>\n",
       "      <td>2018-12-10 12:52:39.471</td>\n",
       "      <td>2018-12-10 12:59:29.399</td>\n",
       "      <td>177.0</td>\n",
       "      <td>MacArthur Blvd at Telegraph Ave</td>\n",
       "      <td>37.826286</td>\n",
       "      <td>-122.265100</td>\n",
       "      <td>188.0</td>\n",
       "      <td>Dover St at 57th St</td>\n",
       "      <td>37.842630</td>\n",
       "      <td>...</td>\n",
       "      <td>3475</td>\n",
       "      <td>Subscriber</td>\n",
       "      <td>1983.0</td>\n",
       "      <td>Male</td>\n",
       "      <td>No</td>\n",
       "      <td>36.0</td>\n",
       "      <td>31 - 40</td>\n",
       "      <td>December</td>\n",
       "      <td>Monday</td>\n",
       "      <td>12</td>\n",
       "    </tr>\n",
       "    <tr>\n",
       "      <th>131575</th>\n",
       "      <td>331</td>\n",
       "      <td>2018-07-12 08:27:28.481</td>\n",
       "      <td>2018-07-12 08:33:00.313</td>\n",
       "      <td>41.0</td>\n",
       "      <td>Golden Gate Ave at Polk St</td>\n",
       "      <td>37.781270</td>\n",
       "      <td>-122.418740</td>\n",
       "      <td>59.0</td>\n",
       "      <td>S Van Ness Ave at Market St</td>\n",
       "      <td>37.774814</td>\n",
       "      <td>...</td>\n",
       "      <td>2938</td>\n",
       "      <td>Subscriber</td>\n",
       "      <td>1994.0</td>\n",
       "      <td>Male</td>\n",
       "      <td>No</td>\n",
       "      <td>25.0</td>\n",
       "      <td>18 - 30</td>\n",
       "      <td>July</td>\n",
       "      <td>Thursday</td>\n",
       "      <td>08</td>\n",
       "    </tr>\n",
       "  </tbody>\n",
       "</table>\n",
       "<p>50 rows × 21 columns</p>\n",
       "</div>"
      ],
      "text/plain": [
       "        duration_sec              start_time                end_time  \\\n",
       "63016            742 2018-04-18 06:48:19.553 2018-04-18 07:00:41.863   \n",
       "92580            562 2018-10-17 11:28:35.850 2018-10-17 11:37:58.742   \n",
       "89825            362 2018-09-17 09:55:29.440 2018-09-17 10:01:31.981   \n",
       "165986           776 2018-08-05 12:14:31.150 2018-08-05 12:27:27.879   \n",
       "9515             578 2018-01-29 20:04:34.472 2018-01-29 20:14:12.928   \n",
       "150097           678 2018-08-07 18:55:25.169 2018-08-07 19:06:43.529   \n",
       "110177           771 2018-10-15 07:57:24.692 2018-10-15 08:10:15.734   \n",
       "43880            624 2018-12-18 21:09:21.611 2018-12-18 21:19:46.478   \n",
       "37091            659 2018-07-26 06:19:01.793 2018-07-26 06:30:01.007   \n",
       "131087          1502 2018-12-01 09:00:00.908 2018-12-01 09:25:03.884   \n",
       "128742           508 2018-04-02 07:30:31.313 2018-04-02 07:38:59.596   \n",
       "132181           184 2018-09-10 19:17:29.202 2018-09-10 19:20:34.089   \n",
       "57288           1257 2018-12-16 20:00:40.334 2018-12-16 20:21:37.482   \n",
       "116276           392 2018-09-12 19:22:34.291 2018-09-12 19:29:07.079   \n",
       "11386            163 2018-08-30 09:02:47.029 2018-08-30 09:05:30.686   \n",
       "96379           1149 2018-10-16 19:30:14.752 2018-10-16 19:49:24.326   \n",
       "129403           421 2018-11-01 17:05:04.768 2018-11-01 17:12:05.841   \n",
       "92742            290 2018-07-18 07:40:31.747 2018-07-18 07:45:22.254   \n",
       "90385            457 2018-12-10 12:17:52.389 2018-12-10 12:25:29.480   \n",
       "88679            130 2018-06-18 09:04:22.857 2018-06-18 09:06:33.588   \n",
       "82311            433 2018-04-12 20:21:56.159 2018-04-12 20:29:09.807   \n",
       "176625           995 2018-09-03 18:43:59.405 2018-09-03 19:00:34.594   \n",
       "105135           688 2018-10-15 18:09:12.063 2018-10-15 18:20:40.524   \n",
       "172222           385 2018-08-03 18:31:51.389 2018-08-03 18:38:17.087   \n",
       "51129            163 2018-02-14 09:55:45.336 2018-02-14 09:58:29.264   \n",
       "88760            266 2018-11-08 08:09:08.808 2018-11-08 08:13:35.407   \n",
       "8350             780 2018-10-30 19:00:47.919 2018-10-30 19:13:48.350   \n",
       "102674           703 2018-04-08 17:31:10.232 2018-04-08 17:42:54.091   \n",
       "119359           705 2018-09-12 13:52:53.248 2018-09-12 14:04:38.615   \n",
       "89990            223 2018-04-11 09:14:05.326 2018-04-11 09:17:48.701   \n",
       "72476            332 2018-07-20 17:13:42.655 2018-07-20 17:19:14.729   \n",
       "149745           568 2018-05-05 20:04:24.926 2018-05-05 20:13:53.497   \n",
       "15205            355 2018-09-28 08:05:57.036 2018-09-28 08:11:53.026   \n",
       "31493            430 2018-08-27 11:51:04.224 2018-08-27 11:58:14.741   \n",
       "112930           990 2018-10-14 14:18:42.890 2018-10-14 14:35:13.852   \n",
       "49657            994 2018-05-23 08:46:00.251 2018-05-23 09:02:35.197   \n",
       "187759           327 2018-07-03 09:04:16.694 2018-07-03 09:09:44.420   \n",
       "2791             354 2018-04-30 16:33:32.942 2018-04-30 16:39:27.443   \n",
       "68212           1772 2018-05-19 18:07:17.755 2018-05-19 18:36:50.522   \n",
       "57002            514 2018-01-15 21:07:48.326 2018-01-15 21:16:22.620   \n",
       "172429           426 2018-08-03 18:12:27.121 2018-08-03 18:19:33.653   \n",
       "99423            435 2018-09-15 09:43:10.652 2018-09-15 09:50:25.924   \n",
       "78701            167 2018-07-19 18:50:54.376 2018-07-19 18:53:41.662   \n",
       "66983            627 2018-03-14 08:57:24.307 2018-03-14 09:07:51.501   \n",
       "194272          1202 2018-07-02 09:12:07.431 2018-07-02 09:32:09.551   \n",
       "4110             780 2018-09-29 23:17:38.378 2018-09-29 23:30:38.693   \n",
       "175244           614 2018-10-04 14:03:30.117 2018-10-04 14:13:44.651   \n",
       "64345           1807 2018-06-21 13:53:29.929 2018-06-21 14:23:37.551   \n",
       "90275            409 2018-12-10 12:52:39.471 2018-12-10 12:59:29.399   \n",
       "131575           331 2018-07-12 08:27:28.481 2018-07-12 08:33:00.313   \n",
       "\n",
       "       start_station_id                                 start_station_name  \\\n",
       "63016             109.0                             17th St at Valencia St   \n",
       "92580              36.0                                Folsom St at 3rd St   \n",
       "89825              66.0                              3rd St at Townsend St   \n",
       "165986            107.0                              17th St at Dolores St   \n",
       "9515               15.0  San Francisco Ferry Building (Harry Bridges Pl...   \n",
       "150097              nan                                                NaN   \n",
       "110177             30.0     San Francisco Caltrain (Townsend St at 4th St)   \n",
       "43880              22.0                              Howard St at Beale St   \n",
       "37091              11.0                             Davis St at Jackson St   \n",
       "131087             74.0                              Laguna St at Hayes St   \n",
       "128742            109.0                             17th St at Valencia St   \n",
       "132181            134.0                             Valencia St at 24th St   \n",
       "57288             263.0                      Channing Way at San Pablo Ave   \n",
       "116276             50.0                              2nd St at Townsend St   \n",
       "11386             255.0                        Virginia St at Shattuck Ave   \n",
       "96379               6.0                      The Embarcadero at Sansome St   \n",
       "129403             58.0                               Market St at 10th St   \n",
       "92742             188.0                                Dover St at 57th St   \n",
       "90385             201.0                               10th St at Fallon St   \n",
       "88679             180.0                           Telegraph Ave at 23rd St   \n",
       "82311              16.0                            Steuart St at Market St   \n",
       "176625             52.0                          McAllister St at Baker St   \n",
       "105135             93.0                       4th St at Mission Bay Blvd S   \n",
       "172222             80.0                              Townsend St at 5th St   \n",
       "51129              62.0                        Victoria Manalo Draves Park   \n",
       "88760             287.0                         Almaden Blvd at Balbach St   \n",
       "8350                3.0       Powell St BART Station (Market St at 4th St)   \n",
       "102674            126.0                                        Esprit Park   \n",
       "119359             50.0                              2nd St at Townsend St   \n",
       "89990             244.0                         Shattuck Ave at Hearst Ave   \n",
       "72476              77.0                               11th St at Natoma St   \n",
       "149745            201.0                               10th St at Fallon St   \n",
       "15205             124.0                              19th St at Florida St   \n",
       "31493              15.0  San Francisco Ferry Building (Harry Bridges Pl...   \n",
       "112930            140.0                      Cesar Chavez St at Dolores St   \n",
       "49657             126.0                                        Esprit Park   \n",
       "187759            195.0                                Bay Pl at Vernon St   \n",
       "2791                6.0                      The Embarcadero at Sansome St   \n",
       "68212              86.0                            Market St at Dolores St   \n",
       "57002             182.0                           19th Street BART Station   \n",
       "172429             44.0  Civic Center/UN Plaza BART Station (Market St ...   \n",
       "99423             176.0                             MacArthur BART Station   \n",
       "78701              30.0     San Francisco Caltrain (Townsend St at 4th St)   \n",
       "66983              67.0  San Francisco Caltrain Station 2  (Townsend St...   \n",
       "194272            102.0                                 Irwin St at 8th St   \n",
       "4110                nan                                                NaN   \n",
       "175244             84.0                                        Duboce Park   \n",
       "64345             349.0                               Howard St at Mary St   \n",
       "90275             177.0                    MacArthur Blvd at Telegraph Ave   \n",
       "131575             41.0                         Golden Gate Ave at Polk St   \n",
       "\n",
       "        start_station_latitude  start_station_longitude end_station_id  \\\n",
       "63016                37.763316              -122.421904           34.0   \n",
       "92580                37.783830              -122.398870           90.0   \n",
       "89825                37.778742              -122.392741            3.0   \n",
       "165986               37.763015              -122.426497           74.0   \n",
       "9515                 37.795392              -122.394203           81.0   \n",
       "150097               37.410000              -121.950000            nan   \n",
       "110177               37.776598              -122.395282           22.0   \n",
       "43880                37.789756              -122.394643          345.0   \n",
       "37091                37.797280              -122.398436           67.0   \n",
       "131087               37.776435              -122.426244           74.0   \n",
       "128742               37.763316              -122.421904           58.0   \n",
       "132181               37.752428              -122.420628          121.0   \n",
       "57288                37.862827              -122.290230          256.0   \n",
       "116276               37.780526              -122.390288           16.0   \n",
       "11386                37.876573              -122.269528          244.0   \n",
       "96379                37.804770              -122.403234           47.0   \n",
       "129403               37.776619              -122.417385           89.0   \n",
       "92742                37.842630              -122.267738          241.0   \n",
       "90385                37.797673              -122.262997          162.0   \n",
       "88679                37.812678              -122.268773          182.0   \n",
       "82311                37.794130              -122.394430           10.0   \n",
       "176625               37.777416              -122.441838           76.0   \n",
       "105135               37.770407              -122.391198           27.0   \n",
       "172222               37.775306              -122.397380           78.0   \n",
       "51129                37.777791              -122.406432           47.0   \n",
       "88760                37.326730              -121.889273          313.0   \n",
       "8350                 37.786375              -122.404904           55.0   \n",
       "102674               37.761634              -122.390648          112.0   \n",
       "119359               37.780526              -122.390288           22.0   \n",
       "89990                37.873792              -122.268618          254.0   \n",
       "72476                37.773507              -122.416040          112.0   \n",
       "149745               37.797673              -122.262997          200.0   \n",
       "15205                37.760447              -122.410807          109.0   \n",
       "31493                37.795392              -122.394203           50.0   \n",
       "112930               37.747858              -122.424986          134.0   \n",
       "49657                37.761634              -122.390648           77.0   \n",
       "187759               37.812314              -122.260779          182.0   \n",
       "2791                 37.804770              -122.403234           15.0   \n",
       "68212                37.769305              -122.426826          132.0   \n",
       "57002                37.809013              -122.268247          202.0   \n",
       "172429               37.781074              -122.411738           60.0   \n",
       "99423                37.828410              -122.266315          189.0   \n",
       "78701                37.776598              -122.395282           50.0   \n",
       "66983                37.776639              -122.395526           21.0   \n",
       "194272               37.766883              -122.399579            6.0   \n",
       "4110                 37.410000              -121.960000            nan   \n",
       "175244               37.769201              -122.433812           31.0   \n",
       "64345                37.781010              -122.405666           27.0   \n",
       "90275                37.826286              -122.265100          188.0   \n",
       "131575               37.781270              -122.418740           59.0   \n",
       "\n",
       "                                         end_station_name  \\\n",
       "63016                      Father Alfred E Boeddeker Park   \n",
       "92580                               Townsend St at 7th St   \n",
       "89825        Powell St BART Station (Market St at 4th St)   \n",
       "165986                              Laguna St at Hayes St   \n",
       "9515                                   Berry St at 4th St   \n",
       "150097                                                NaN   \n",
       "110177                              Howard St at Beale St   \n",
       "43880                               Hubbell St at 16th St   \n",
       "37091   San Francisco Caltrain Station 2  (Townsend St...   \n",
       "131087                              Laguna St at Hayes St   \n",
       "128742                               Market St at 10th St   \n",
       "132181                                 Mission Playground   \n",
       "57288                            Hearst Ave at Euclid Ave   \n",
       "116276                            Steuart St at Market St   \n",
       "11386                          Shattuck Ave at Hearst Ave   \n",
       "96379                               4th St at Harrison St   \n",
       "129403                         Division St at Potrero Ave   \n",
       "92742                                  Ashby BART Station   \n",
       "90385                               Franklin St at 9th St   \n",
       "88679                            19th Street BART Station   \n",
       "82311                          Washington St at Kearny St   \n",
       "176625                         McCoppin St at Valencia St   \n",
       "105135                            Beale St at Harrison St   \n",
       "172222                                Folsom St at 9th St   \n",
       "51129                               4th St at Harrison St   \n",
       "88760                     Almaden Blvd at San Fernando St   \n",
       "8350                               Webster St at Grove St   \n",
       "102674                             Harrison St at 17th St   \n",
       "119359                              Howard St at Beale St   \n",
       "89990                             Vine St at Shattuck Ave   \n",
       "72476                              Harrison St at 17th St   \n",
       "149745                               2nd Ave at E 18th St   \n",
       "15205                              17th St at Valencia St   \n",
       "31493                               2nd St at Townsend St   \n",
       "112930                             Valencia St at 24th St   \n",
       "49657                                11th St at Natoma St   \n",
       "187759                           19th Street BART Station   \n",
       "2791    San Francisco Ferry Building (Harry Bridges Pl...   \n",
       "68212                           24th St at Chattanooga St   \n",
       "57002                             Washington St at 8th St   \n",
       "172429                               8th St at Ringold St   \n",
       "99423                                 Genoa St at 55th St   \n",
       "78701                               2nd St at Townsend St   \n",
       "66983    Montgomery St BART Station (Market St at 2nd St)   \n",
       "194272                      The Embarcadero at Sansome St   \n",
       "4110                                                  NaN   \n",
       "175244                         Raymond Kimbell Playground   \n",
       "64345                             Beale St at Harrison St   \n",
       "90275                                 Dover St at 57th St   \n",
       "131575                        S Van Ness Ave at Market St   \n",
       "\n",
       "        end_station_latitude       ...        bike_id   user_type  \\\n",
       "63016              37.783988       ...           3041  Subscriber   \n",
       "92580              37.771058       ...           1673  Subscriber   \n",
       "89825              37.786375       ...           4462  Subscriber   \n",
       "165986             37.776435       ...           2585  Subscriber   \n",
       "9515               37.775880       ...           3260  Subscriber   \n",
       "150097             37.410000       ...           4106    Customer   \n",
       "110177             37.789756       ...           1516  Subscriber   \n",
       "43880              37.766474       ...           5458  Subscriber   \n",
       "37091              37.776639       ...           1730  Subscriber   \n",
       "131087             37.776435       ...           3574  Subscriber   \n",
       "128742             37.776619       ...            634  Subscriber   \n",
       "132181             37.759210       ...           4022  Subscriber   \n",
       "57288              37.875112       ...           4864  Subscriber   \n",
       "116276             37.794130       ...           2475  Subscriber   \n",
       "11386              37.873792       ...           3600  Subscriber   \n",
       "96379              37.780955       ...            799  Subscriber   \n",
       "129403             37.769218       ...           1296  Subscriber   \n",
       "92742              37.852477       ...           2820  Subscriber   \n",
       "90385              37.800516       ...            848  Subscriber   \n",
       "88679              37.809013       ...            152  Subscriber   \n",
       "82311              37.795393       ...           2589  Subscriber   \n",
       "176625             37.771662       ...           4345  Subscriber   \n",
       "105135             37.788059       ...           1019  Subscriber   \n",
       "172222             37.773717       ...           2529  Subscriber   \n",
       "51129              37.780955       ...           1128  Subscriber   \n",
       "88760              37.331415       ...            190  Subscriber   \n",
       "8350               37.777053       ...           3531  Subscriber   \n",
       "102674             37.763847       ...            992  Subscriber   \n",
       "119359             37.789756       ...           1737  Subscriber   \n",
       "89990              37.880222       ...           2631  Subscriber   \n",
       "72476              37.763847       ...           3017  Subscriber   \n",
       "149745             37.800214       ...           2778  Subscriber   \n",
       "15205              37.763316       ...           1213  Subscriber   \n",
       "31493              37.780526       ...           3944  Subscriber   \n",
       "112930             37.752428       ...           3955  Subscriber   \n",
       "49657              37.773507       ...           4066  Subscriber   \n",
       "187759             37.809013       ...           3282  Subscriber   \n",
       "2791               37.795392       ...           1692  Subscriber   \n",
       "68212              37.751819       ...           3989  Subscriber   \n",
       "57002              37.800754       ...           2638  Subscriber   \n",
       "172429             37.774520       ...            421  Subscriber   \n",
       "99423              37.839649       ...           1986  Subscriber   \n",
       "78701              37.780526       ...           2810  Subscriber   \n",
       "66983              37.789625       ...           3387  Subscriber   \n",
       "194272             37.804770       ...           3922  Subscriber   \n",
       "4110               37.420000       ...           4088    Customer   \n",
       "175244             37.783813       ...           2560  Subscriber   \n",
       "64345              37.788059       ...           2689    Customer   \n",
       "90275              37.842630       ...           3475  Subscriber   \n",
       "131575             37.774814       ...           2938  Subscriber   \n",
       "\n",
       "       member_birth_year  member_gender bike_share_for_all_trip member_age  \\\n",
       "63016             1984.0           Male                      No       35.0   \n",
       "92580             1980.0           Male                      No       39.0   \n",
       "89825             1996.0           Male                      No       23.0   \n",
       "165986            1960.0         Female                      No       59.0   \n",
       "9515              1986.0         Female                      No       33.0   \n",
       "150097            1988.0           Male                      No       31.0   \n",
       "110177            1961.0           Male                      No       58.0   \n",
       "43880             1991.0           Male                      No       28.0   \n",
       "37091             1988.0           Male                      No       31.0   \n",
       "131087            1983.0         Female                      No       36.0   \n",
       "128742            1960.0           Male                      No       59.0   \n",
       "132181            1984.0         Female                      No       35.0   \n",
       "57288             1998.0         Female                     Yes       21.0   \n",
       "116276            1991.0           Male                      No       28.0   \n",
       "11386             1997.0           Male                     Yes       22.0   \n",
       "96379             1992.0         Female                      No       27.0   \n",
       "129403            1989.0           Male                      No       30.0   \n",
       "92742             1976.0           Male                      No       43.0   \n",
       "90385             1993.0         Female                      No       26.0   \n",
       "88679             1993.0           Male                      No       26.0   \n",
       "82311             1989.0           Male                      No       30.0   \n",
       "176625            1981.0         Female                      No       38.0   \n",
       "105135            1989.0           Male                      No       30.0   \n",
       "172222            1998.0           Male                      No       21.0   \n",
       "51129             1987.0           Male                      No       32.0   \n",
       "88760             1993.0           Male                      No       26.0   \n",
       "8350              1991.0           Male                      No       28.0   \n",
       "102674            1989.0         Female                      No       30.0   \n",
       "119359            1963.0           Male                      No       56.0   \n",
       "89990             1984.0           Male                      No       35.0   \n",
       "72476             1984.0         Female                      No       35.0   \n",
       "149745            1954.0           Male                      No       65.0   \n",
       "15205             1979.0         Female                      No       40.0   \n",
       "31493             1982.0           Male                      No       37.0   \n",
       "112930            1988.0           Male                      No       31.0   \n",
       "49657             1984.0         Female                      No       35.0   \n",
       "187759            1974.0           Male                      No       45.0   \n",
       "2791              1963.0         Female                      No       56.0   \n",
       "68212             1986.0           Male                      No       33.0   \n",
       "57002             1985.0         Female                      No       34.0   \n",
       "172429            1990.0           Male                      No       29.0   \n",
       "99423             1989.0           Male                      No       30.0   \n",
       "78701             1974.0         Female                      No       45.0   \n",
       "66983             1986.0         Female                      No       33.0   \n",
       "194272            1988.0           Male                      No       31.0   \n",
       "4110              1988.0           Male                      No       31.0   \n",
       "175244            1985.0           Male                      No       34.0   \n",
       "64345             1987.0           Male                      No       32.0   \n",
       "90275             1983.0           Male                      No       36.0   \n",
       "131575            1994.0           Male                      No       25.0   \n",
       "\n",
       "        member_age_group start_time_month start_time_dayofweek start_time_hour  \n",
       "63016            31 - 40            April            Wednesday              06  \n",
       "92580            31 - 40          October            Wednesday              11  \n",
       "89825            18 - 30        September               Monday              09  \n",
       "165986              51 +           August               Sunday              12  \n",
       "9515             31 - 40          January               Monday              20  \n",
       "150097           31 - 40           August              Tuesday              18  \n",
       "110177              51 +          October               Monday              07  \n",
       "43880            18 - 30         December              Tuesday              21  \n",
       "37091            31 - 40             July             Thursday              06  \n",
       "131087           31 - 40         December             Saturday              09  \n",
       "128742              51 +            April               Monday              07  \n",
       "132181           31 - 40        September               Monday              19  \n",
       "57288            18 - 30         December               Sunday              20  \n",
       "116276           18 - 30        September            Wednesday              19  \n",
       "11386            18 - 30           August             Thursday              09  \n",
       "96379            18 - 30          October              Tuesday              19  \n",
       "129403           18 - 30         November             Thursday              17  \n",
       "92742            41 - 50             July            Wednesday              07  \n",
       "90385            18 - 30         December               Monday              12  \n",
       "88679            18 - 30             June               Monday              09  \n",
       "82311            18 - 30            April             Thursday              20  \n",
       "176625           31 - 40        September               Monday              18  \n",
       "105135           18 - 30          October               Monday              18  \n",
       "172222           18 - 30           August               Friday              18  \n",
       "51129            31 - 40         February            Wednesday              09  \n",
       "88760            18 - 30         November             Thursday              08  \n",
       "8350             18 - 30          October              Tuesday              19  \n",
       "102674           18 - 30            April               Sunday              17  \n",
       "119359              51 +        September            Wednesday              13  \n",
       "89990            31 - 40            April            Wednesday              09  \n",
       "72476            31 - 40             July               Friday              17  \n",
       "149745                65              May             Saturday              20  \n",
       "15205            31 - 40        September               Friday              08  \n",
       "31493            31 - 40           August               Monday              11  \n",
       "112930           31 - 40          October               Sunday              14  \n",
       "49657            31 - 40              May            Wednesday              08  \n",
       "187759           41 - 50             July              Tuesday              09  \n",
       "2791                51 +            April               Monday              16  \n",
       "68212            31 - 40              May             Saturday              18  \n",
       "57002            31 - 40          January               Monday              21  \n",
       "172429           18 - 30           August               Friday              18  \n",
       "99423            18 - 30        September             Saturday              09  \n",
       "78701            41 - 50             July             Thursday              18  \n",
       "66983            31 - 40            March            Wednesday              08  \n",
       "194272           31 - 40             July               Monday              09  \n",
       "4110             31 - 40        September             Saturday              23  \n",
       "175244           31 - 40          October             Thursday              14  \n",
       "64345            31 - 40             June             Thursday              13  \n",
       "90275            31 - 40         December               Monday              12  \n",
       "131575           18 - 30             July             Thursday              08  \n",
       "\n",
       "[50 rows x 21 columns]"
      ]
     },
     "execution_count": 14,
     "metadata": {},
     "output_type": "execute_result"
    }
   ],
   "source": [
    "fordbike_2018_clean.sample(50)"
   ]
  },
  {
   "cell_type": "code",
   "execution_count": 15,
   "metadata": {
    "slideshow": {
     "slide_type": "skip"
    }
   },
   "outputs": [
    {
     "name": "stdout",
     "output_type": "stream",
     "text": [
      "<class 'pandas.core.frame.DataFrame'>\n",
      "Int64Index: 1863721 entries, 0 to 131362\n",
      "Data columns (total 21 columns):\n",
      "duration_sec               int64\n",
      "start_time                 datetime64[ns]\n",
      "end_time                   datetime64[ns]\n",
      "start_station_id           object\n",
      "start_station_name         object\n",
      "start_station_latitude     float64\n",
      "start_station_longitude    float64\n",
      "end_station_id             object\n",
      "end_station_name           object\n",
      "end_station_latitude       float64\n",
      "end_station_longitude      float64\n",
      "bike_id                    object\n",
      "user_type                  category\n",
      "member_birth_year          float64\n",
      "member_gender              category\n",
      "bike_share_for_all_trip    category\n",
      "member_age                 float64\n",
      "member_age_group           category\n",
      "start_time_month           category\n",
      "start_time_dayofweek       category\n",
      "start_time_hour            category\n",
      "dtypes: category(7), datetime64[ns](2), float64(6), int64(1), object(5)\n",
      "memory usage: 225.7+ MB\n"
     ]
    }
   ],
   "source": [
    "fordbike_2018_clean.info()"
   ]
  },
  {
   "cell_type": "code",
   "execution_count": 16,
   "metadata": {
    "scrolled": true,
    "slideshow": {
     "slide_type": "skip"
    }
   },
   "outputs": [
    {
     "data": {
      "text/html": [
       "<div>\n",
       "<style scoped>\n",
       "    .dataframe tbody tr th:only-of-type {\n",
       "        vertical-align: middle;\n",
       "    }\n",
       "\n",
       "    .dataframe tbody tr th {\n",
       "        vertical-align: top;\n",
       "    }\n",
       "\n",
       "    .dataframe thead th {\n",
       "        text-align: right;\n",
       "    }\n",
       "</style>\n",
       "<table border=\"1\" class=\"dataframe\">\n",
       "  <thead>\n",
       "    <tr style=\"text-align: right;\">\n",
       "      <th></th>\n",
       "      <th>duration_sec</th>\n",
       "      <th>start_station_latitude</th>\n",
       "      <th>start_station_longitude</th>\n",
       "      <th>end_station_latitude</th>\n",
       "      <th>end_station_longitude</th>\n",
       "      <th>member_birth_year</th>\n",
       "      <th>member_age</th>\n",
       "    </tr>\n",
       "  </thead>\n",
       "  <tbody>\n",
       "    <tr>\n",
       "      <th>count</th>\n",
       "      <td>1.863721e+06</td>\n",
       "      <td>1.863721e+06</td>\n",
       "      <td>1.863721e+06</td>\n",
       "      <td>1.863721e+06</td>\n",
       "      <td>1.863721e+06</td>\n",
       "      <td>1.753003e+06</td>\n",
       "      <td>1.753003e+06</td>\n",
       "    </tr>\n",
       "    <tr>\n",
       "      <th>mean</th>\n",
       "      <td>8.573026e+02</td>\n",
       "      <td>3.776678e+01</td>\n",
       "      <td>-1.223492e+02</td>\n",
       "      <td>3.776690e+01</td>\n",
       "      <td>-1.223487e+02</td>\n",
       "      <td>1.983088e+03</td>\n",
       "      <td>3.591204e+01</td>\n",
       "    </tr>\n",
       "    <tr>\n",
       "      <th>std</th>\n",
       "      <td>2.370379e+03</td>\n",
       "      <td>1.057689e-01</td>\n",
       "      <td>1.654634e-01</td>\n",
       "      <td>1.056483e-01</td>\n",
       "      <td>1.650597e-01</td>\n",
       "      <td>1.044289e+01</td>\n",
       "      <td>1.044289e+01</td>\n",
       "    </tr>\n",
       "    <tr>\n",
       "      <th>min</th>\n",
       "      <td>6.100000e+01</td>\n",
       "      <td>3.726331e+01</td>\n",
       "      <td>-1.224737e+02</td>\n",
       "      <td>3.726331e+01</td>\n",
       "      <td>-1.224737e+02</td>\n",
       "      <td>1.881000e+03</td>\n",
       "      <td>1.900000e+01</td>\n",
       "    </tr>\n",
       "    <tr>\n",
       "      <th>25%</th>\n",
       "      <td>3.500000e+02</td>\n",
       "      <td>3.777106e+01</td>\n",
       "      <td>-1.224114e+02</td>\n",
       "      <td>3.777106e+01</td>\n",
       "      <td>-1.224094e+02</td>\n",
       "      <td>1.978000e+03</td>\n",
       "      <td>2.800000e+01</td>\n",
       "    </tr>\n",
       "    <tr>\n",
       "      <th>50%</th>\n",
       "      <td>5.560000e+02</td>\n",
       "      <td>3.778107e+01</td>\n",
       "      <td>-1.223974e+02</td>\n",
       "      <td>3.778127e+01</td>\n",
       "      <td>-1.223971e+02</td>\n",
       "      <td>1.985000e+03</td>\n",
       "      <td>3.400000e+01</td>\n",
       "    </tr>\n",
       "    <tr>\n",
       "      <th>75%</th>\n",
       "      <td>8.720000e+02</td>\n",
       "      <td>3.779625e+01</td>\n",
       "      <td>-1.222865e+02</td>\n",
       "      <td>3.779728e+01</td>\n",
       "      <td>-1.222894e+02</td>\n",
       "      <td>1.991000e+03</td>\n",
       "      <td>4.100000e+01</td>\n",
       "    </tr>\n",
       "    <tr>\n",
       "      <th>max</th>\n",
       "      <td>8.636600e+04</td>\n",
       "      <td>4.551000e+01</td>\n",
       "      <td>-7.357000e+01</td>\n",
       "      <td>4.551000e+01</td>\n",
       "      <td>-7.357000e+01</td>\n",
       "      <td>2.000000e+03</td>\n",
       "      <td>1.380000e+02</td>\n",
       "    </tr>\n",
       "  </tbody>\n",
       "</table>\n",
       "</div>"
      ],
      "text/plain": [
       "       duration_sec  start_station_latitude  start_station_longitude  \\\n",
       "count  1.863721e+06            1.863721e+06             1.863721e+06   \n",
       "mean   8.573026e+02            3.776678e+01            -1.223492e+02   \n",
       "std    2.370379e+03            1.057689e-01             1.654634e-01   \n",
       "min    6.100000e+01            3.726331e+01            -1.224737e+02   \n",
       "25%    3.500000e+02            3.777106e+01            -1.224114e+02   \n",
       "50%    5.560000e+02            3.778107e+01            -1.223974e+02   \n",
       "75%    8.720000e+02            3.779625e+01            -1.222865e+02   \n",
       "max    8.636600e+04            4.551000e+01            -7.357000e+01   \n",
       "\n",
       "       end_station_latitude  end_station_longitude  member_birth_year  \\\n",
       "count          1.863721e+06           1.863721e+06       1.753003e+06   \n",
       "mean           3.776690e+01          -1.223487e+02       1.983088e+03   \n",
       "std            1.056483e-01           1.650597e-01       1.044289e+01   \n",
       "min            3.726331e+01          -1.224737e+02       1.881000e+03   \n",
       "25%            3.777106e+01          -1.224094e+02       1.978000e+03   \n",
       "50%            3.778127e+01          -1.223971e+02       1.985000e+03   \n",
       "75%            3.779728e+01          -1.222894e+02       1.991000e+03   \n",
       "max            4.551000e+01          -7.357000e+01       2.000000e+03   \n",
       "\n",
       "         member_age  \n",
       "count  1.753003e+06  \n",
       "mean   3.591204e+01  \n",
       "std    1.044289e+01  \n",
       "min    1.900000e+01  \n",
       "25%    2.800000e+01  \n",
       "50%    3.400000e+01  \n",
       "75%    4.100000e+01  \n",
       "max    1.380000e+02  "
      ]
     },
     "execution_count": 16,
     "metadata": {},
     "output_type": "execute_result"
    }
   ],
   "source": [
    "# descriptive statistics for numeric variables\n",
    "fordbike_2018_clean.describe()"
   ]
  },
  {
   "cell_type": "markdown",
   "metadata": {
    "slideshow": {
     "slide_type": "skip"
    }
   },
   "source": [
    "The max member_age is 138. Let's look into this and clean it up"
   ]
  },
  {
   "cell_type": "code",
   "execution_count": 17,
   "metadata": {
    "slideshow": {
     "slide_type": "skip"
    }
   },
   "outputs": [
    {
     "data": {
      "image/png": "[encoded data removed]",
      "text/plain": [
       "<Figure size 432x288 with 1 Axes>"
      ]
     },
     "metadata": {
      "needs_background": "light"
     },
     "output_type": "display_data"
    }
   ],
   "source": [
    "base_color = sb.color_palette()[0]\n",
    "\n",
    "sb.boxplot(data=fordbike_2018_clean, x='member_age', color=base_color)\n",
    "plt.title(\"The Age Distribution of Ford GoBike Riders\");"
   ]
  },
  {
   "cell_type": "code",
   "execution_count": 18,
   "metadata": {
    "slideshow": {
     "slide_type": "skip"
    }
   },
   "outputs": [
    {
     "name": "stdout",
     "output_type": "stream",
     "text": [
      "Maximum = 60.5\n"
     ]
    }
   ],
   "source": [
    "q1, q3= np.percentile(fordbike_2018_clean.member_age.dropna(),[25,75])\n",
    "iqr = q3 - q1\n",
    "maximum = q3 + (iqr*1.5)\n",
    "print (\"Maximum = \" + str(maximum))"
   ]
  },
  {
   "cell_type": "markdown",
   "metadata": {
    "slideshow": {
     "slide_type": "skip"
    }
   },
   "source": [
    "From the box plot above we can see there are outliers. The maximum from the box plot is 60.5, so we will drop bikers above age 60."
   ]
  },
  {
   "cell_type": "code",
   "execution_count": 19,
   "metadata": {
    "slideshow": {
     "slide_type": "skip"
    }
   },
   "outputs": [],
   "source": [
    "fordbike_2018_clean=fordbike_2018_clean[fordbike_2018_clean['member_age'] <=60]"
   ]
  },
  {
   "cell_type": "code",
   "execution_count": 20,
   "metadata": {
    "slideshow": {
     "slide_type": "skip"
    }
   },
   "outputs": [
    {
     "data": {
      "text/html": [
       "<div>\n",
       "<style scoped>\n",
       "    .dataframe tbody tr th:only-of-type {\n",
       "        vertical-align: middle;\n",
       "    }\n",
       "\n",
       "    .dataframe tbody tr th {\n",
       "        vertical-align: top;\n",
       "    }\n",
       "\n",
       "    .dataframe thead th {\n",
       "        text-align: right;\n",
       "    }\n",
       "</style>\n",
       "<table border=\"1\" class=\"dataframe\">\n",
       "  <thead>\n",
       "    <tr style=\"text-align: right;\">\n",
       "      <th></th>\n",
       "      <th>duration_sec</th>\n",
       "      <th>start_station_latitude</th>\n",
       "      <th>start_station_longitude</th>\n",
       "      <th>end_station_latitude</th>\n",
       "      <th>end_station_longitude</th>\n",
       "      <th>member_birth_year</th>\n",
       "      <th>member_age</th>\n",
       "    </tr>\n",
       "  </thead>\n",
       "  <tbody>\n",
       "    <tr>\n",
       "      <th>count</th>\n",
       "      <td>1.708250e+06</td>\n",
       "      <td>1.708250e+06</td>\n",
       "      <td>1.708250e+06</td>\n",
       "      <td>1.708250e+06</td>\n",
       "      <td>1.708250e+06</td>\n",
       "      <td>1.708250e+06</td>\n",
       "      <td>1.708250e+06</td>\n",
       "    </tr>\n",
       "    <tr>\n",
       "      <th>mean</th>\n",
       "      <td>7.770344e+02</td>\n",
       "      <td>3.776626e+01</td>\n",
       "      <td>-1.223483e+02</td>\n",
       "      <td>3.776635e+01</td>\n",
       "      <td>-1.223477e+02</td>\n",
       "      <td>1.983908e+03</td>\n",
       "      <td>3.509174e+01</td>\n",
       "    </tr>\n",
       "    <tr>\n",
       "      <th>std</th>\n",
       "      <td>1.985384e+03</td>\n",
       "      <td>1.068892e-01</td>\n",
       "      <td>1.695276e-01</td>\n",
       "      <td>1.067575e-01</td>\n",
       "      <td>1.691045e-01</td>\n",
       "      <td>9.114289e+00</td>\n",
       "      <td>9.114289e+00</td>\n",
       "    </tr>\n",
       "    <tr>\n",
       "      <th>min</th>\n",
       "      <td>6.100000e+01</td>\n",
       "      <td>3.726331e+01</td>\n",
       "      <td>-1.224737e+02</td>\n",
       "      <td>3.726331e+01</td>\n",
       "      <td>-1.224737e+02</td>\n",
       "      <td>1.959000e+03</td>\n",
       "      <td>1.900000e+01</td>\n",
       "    </tr>\n",
       "    <tr>\n",
       "      <th>25%</th>\n",
       "      <td>3.450000e+02</td>\n",
       "      <td>3.777041e+01</td>\n",
       "      <td>-1.224114e+02</td>\n",
       "      <td>3.777106e+01</td>\n",
       "      <td>-1.224094e+02</td>\n",
       "      <td>1.979000e+03</td>\n",
       "      <td>2.800000e+01</td>\n",
       "    </tr>\n",
       "    <tr>\n",
       "      <th>50%</th>\n",
       "      <td>5.430000e+02</td>\n",
       "      <td>3.778107e+01</td>\n",
       "      <td>-1.223971e+02</td>\n",
       "      <td>3.778107e+01</td>\n",
       "      <td>-1.223959e+02</td>\n",
       "      <td>1.986000e+03</td>\n",
       "      <td>3.300000e+01</td>\n",
       "    </tr>\n",
       "    <tr>\n",
       "      <th>75%</th>\n",
       "      <td>8.400000e+02</td>\n",
       "      <td>3.779581e+01</td>\n",
       "      <td>-1.222831e+02</td>\n",
       "      <td>3.779625e+01</td>\n",
       "      <td>-1.222876e+02</td>\n",
       "      <td>1.991000e+03</td>\n",
       "      <td>4.000000e+01</td>\n",
       "    </tr>\n",
       "    <tr>\n",
       "      <th>max</th>\n",
       "      <td>8.628100e+04</td>\n",
       "      <td>4.551000e+01</td>\n",
       "      <td>-7.357000e+01</td>\n",
       "      <td>4.551000e+01</td>\n",
       "      <td>-7.357000e+01</td>\n",
       "      <td>2.000000e+03</td>\n",
       "      <td>6.000000e+01</td>\n",
       "    </tr>\n",
       "  </tbody>\n",
       "</table>\n",
       "</div>"
      ],
      "text/plain": [
       "       duration_sec  start_station_latitude  start_station_longitude  \\\n",
       "count  1.708250e+06            1.708250e+06             1.708250e+06   \n",
       "mean   7.770344e+02            3.776626e+01            -1.223483e+02   \n",
       "std    1.985384e+03            1.068892e-01             1.695276e-01   \n",
       "min    6.100000e+01            3.726331e+01            -1.224737e+02   \n",
       "25%    3.450000e+02            3.777041e+01            -1.224114e+02   \n",
       "50%    5.430000e+02            3.778107e+01            -1.223971e+02   \n",
       "75%    8.400000e+02            3.779581e+01            -1.222831e+02   \n",
       "max    8.628100e+04            4.551000e+01            -7.357000e+01   \n",
       "\n",
       "       end_station_latitude  end_station_longitude  member_birth_year  \\\n",
       "count          1.708250e+06           1.708250e+06       1.708250e+06   \n",
       "mean           3.776635e+01          -1.223477e+02       1.983908e+03   \n",
       "std            1.067575e-01           1.691045e-01       9.114289e+00   \n",
       "min            3.726331e+01          -1.224737e+02       1.959000e+03   \n",
       "25%            3.777106e+01          -1.224094e+02       1.979000e+03   \n",
       "50%            3.778107e+01          -1.223959e+02       1.986000e+03   \n",
       "75%            3.779625e+01          -1.222876e+02       1.991000e+03   \n",
       "max            4.551000e+01          -7.357000e+01       2.000000e+03   \n",
       "\n",
       "         member_age  \n",
       "count  1.708250e+06  \n",
       "mean   3.509174e+01  \n",
       "std    9.114289e+00  \n",
       "min    1.900000e+01  \n",
       "25%    2.800000e+01  \n",
       "50%    3.300000e+01  \n",
       "75%    4.000000e+01  \n",
       "max    6.000000e+01  "
      ]
     },
     "execution_count": 20,
     "metadata": {},
     "output_type": "execute_result"
    }
   ],
   "source": [
    "fordbike_2018_clean.describe()"
   ]
  },
  {
   "cell_type": "code",
   "execution_count": 21,
   "metadata": {
    "slideshow": {
     "slide_type": "skip"
    }
   },
   "outputs": [
    {
     "data": {
      "text/plain": [
       "(1708250, 21)"
      ]
     },
     "execution_count": 21,
     "metadata": {},
     "output_type": "execute_result"
    }
   ],
   "source": [
    "fordbike_2018_clean.shape"
   ]
  },
  {
   "cell_type": "code",
   "execution_count": 22,
   "metadata": {
    "slideshow": {
     "slide_type": "skip"
    }
   },
   "outputs": [],
   "source": [
    "# Save clean data to csv\n",
    "fordbike_2018_clean.to_csv('fordbike_2018_master.csv', encoding='utf-8', index=False)"
   ]
  },
  {
   "cell_type": "markdown",
   "metadata": {
    "slideshow": {
     "slide_type": "slide"
    }
   },
   "source": [
    "### Investigation Overview\n",
    "In this investigation, I want to look at the relationship between the different groups (age, gender and user type) and popular biking times(time of the month, day of the week and hour of the day).\n",
    "\n",
    "\n",
    "### Dataset Overview\n",
    "This project  explores a dataset containing Bay Wheels's bike trip data for 2018.\n",
    "The data consists of information for 1,863,721 bike trips, including duration, start time, end time, user type, member birth year, member gender and other bike trip features."
   ]
  },
  {
   "cell_type": "markdown",
   "metadata": {
    "slideshow": {
     "slide_type": "slide"
    }
   },
   "source": [
    "## Univariate Exploration"
   ]
  },
  {
   "cell_type": "markdown",
   "metadata": {
    "slideshow": {
     "slide_type": "slide"
    }
   },
   "source": [
    "I'll start by looking at the different categorical data types"
   ]
  },
  {
   "cell_type": "markdown",
   "metadata": {
    "slideshow": {
     "slide_type": "slide"
    }
   },
   "source": [
    "First we'll start with Member Gender"
   ]
  },
  {
   "cell_type": "code",
   "execution_count": 23,
   "metadata": {
    "slideshow": {
     "slide_type": "subslide"
    }
   },
   "outputs": [
    {
     "data": {
      "image/png": "[encoded data removed]",
      "text/plain": [
       "<Figure size 432x288 with 1 Axes>"
      ]
     },
     "metadata": {
      "needs_background": "light"
     },
     "output_type": "display_data"
    }
   ],
   "source": [
    "# create the plot\n",
    "sb.countplot(data = fordbike_2018_clean, x = 'member_gender', color = base_color)\n",
    "plt.title(\"Bike Trips by Gender\")\n",
    "plt.xlabel(\"Member Gender\")\n",
    "plt.ylabel(\"Number of Bikers\")\n",
    "\n",
    "# add annotations\n",
    "n_points = fordbike_2018_clean.shape[0]\n",
    "cat_counts = fordbike_2018_clean['member_gender'].value_counts()\n",
    "locs, labels = plt.xticks() # get the current tick locations and labels\n",
    "\n",
    "# loop through each pair of locations and labels\n",
    "for loc, label in zip(locs, labels):\n",
    "\n",
    "    # get the text property for the label to get the correct count\n",
    "    count = cat_counts[label.get_text()]\n",
    "    pct_string = '{:0.1f}%'.format(100*count/n_points)\n",
    "\n",
    "    # print the annotation just below the top of the bar\n",
    "    plt.text(loc, count-8, pct_string, ha = 'center', color = 'k');"
   ]
  },
  {
   "cell_type": "markdown",
   "metadata": {
    "slideshow": {
     "slide_type": "slide"
    }
   },
   "source": [
    "73.2 % of bikers are Male, 25.2% of bikers are Female and 1.5% of bikers are categrized as Other"
   ]
  },
  {
   "cell_type": "markdown",
   "metadata": {
    "slideshow": {
     "slide_type": "slide"
    }
   },
   "source": [
    "Next, let's take a look at the member ages groups"
   ]
  },
  {
   "cell_type": "code",
   "execution_count": 24,
   "metadata": {
    "slideshow": {
     "slide_type": "subslide"
    }
   },
   "outputs": [
    {
     "data": {
      "image/png": "[encoded data removed]",
      "text/plain": [
       "<Figure size 432x288 with 1 Axes>"
      ]
     },
     "metadata": {
      "needs_background": "light"
     },
     "output_type": "display_data"
    }
   ],
   "source": [
    "level_order = ['18 - 30', '31 - 40', '41 - 50', '51 +']\n",
    "ordered_cat = pd.api.types.CategoricalDtype(ordered = True, categories = level_order)\n",
    "fordbike_2018_clean['member_age_group'] = fordbike_2018_clean['member_age_group'].astype(ordered_cat)\n",
    "\n",
    "# create the plot\n",
    "sb.countplot(data = fordbike_2018_clean, x = 'member_age_group', color = base_color)\n",
    "plt.title(\"Bike Trips by Member Age\")\n",
    "plt.xlabel(\"Member Age Group\")\n",
    "plt.ylabel(\"Number of Bikers\")\n",
    "\n",
    "# add annotations\n",
    "n_points = fordbike_2018_clean.shape[0]\n",
    "cat_counts = fordbike_2018_clean['member_age_group'].value_counts()\n",
    "locs, labels = plt.xticks() # get the current tick locations and labels\n",
    "\n",
    "# loop through each pair of locations and labels\n",
    "for loc, label in zip(locs, labels):\n",
    "\n",
    "    # get the text property for the label to get the correct count\n",
    "    count = cat_counts[label.get_text()]\n",
    "    pct_string = '{:0.1f}%'.format(100*count/n_points)\n",
    "\n",
    "    # print the annotation just below the top of the bar\n",
    "    plt.text(loc, count-8, pct_string, ha = 'center', color = 'k');"
   ]
  },
  {
   "cell_type": "markdown",
   "metadata": {
    "slideshow": {
     "slide_type": "slide"
    }
   },
   "source": [
    "Majority of the members are between the ages 31-40"
   ]
  },
  {
   "cell_type": "markdown",
   "metadata": {
    "slideshow": {
     "slide_type": "skip"
    }
   },
   "source": [
    "Next we'll look at User Type"
   ]
  },
  {
   "cell_type": "code",
   "execution_count": 25,
   "metadata": {
    "slideshow": {
     "slide_type": "skip"
    }
   },
   "outputs": [
    {
     "data": {
      "image/png": "[encoded data removed]",
      "text/plain": [
       "<Figure size 432x288 with 1 Axes>"
      ]
     },
     "metadata": {
      "needs_background": "light"
     },
     "output_type": "display_data"
    }
   ],
   "source": [
    "# create the plot\n",
    "sb.countplot(data = fordbike_2018_clean, x = 'user_type', color = base_color)\n",
    "plt.title(\"Bike Trips by User Type\")\n",
    "plt.xlabel(\"User Type\")\n",
    "plt.ylabel(\"Number of Bikers\")\n",
    "\n",
    "# add annotations\n",
    "n_points = fordbike_2018_clean.shape[0]\n",
    "cat_counts = fordbike_2018_clean['user_type'].value_counts()\n",
    "locs, labels = plt.xticks() # get the current tick locations and labels\n",
    "\n",
    "# loop through each pair of locations and labels\n",
    "for loc, label in zip(locs, labels):\n",
    "\n",
    "    # get the text property for the label to get the correct count\n",
    "    count = cat_counts[label.get_text()]\n",
    "    pct_string = '{:0.1f}%'.format(100*count/n_points)\n",
    "\n",
    "    # print the annotation just below the top of the bar\n",
    "    plt.text(loc, count-8, pct_string, ha = 'center', color = 'k');"
   ]
  },
  {
   "cell_type": "markdown",
   "metadata": {
    "slideshow": {
     "slide_type": "skip"
    }
   },
   "source": [
    "88.3% of bikers are Subscribers and 11.7% are Customers"
   ]
  },
  {
   "cell_type": "markdown",
   "metadata": {
    "slideshow": {
     "slide_type": "slide"
    }
   },
   "source": [
    "Next we'll look at Bike Trips by Month"
   ]
  },
  {
   "cell_type": "code",
   "execution_count": 26,
   "metadata": {
    "slideshow": {
     "slide_type": "subslide"
    }
   },
   "outputs": [
    {
     "data": {
      "image/png": "[encoded data removed]",
      "text/plain": [
       "<Figure size 432x288 with 1 Axes>"
      ]
     },
     "metadata": {
      "needs_background": "light"
     },
     "output_type": "display_data"
    }
   ],
   "source": [
    "# covert start_time_month to an ordered categorical type\n",
    "level_order = ['January', 'February', 'March', 'April', 'May', 'June', 'July', 'August', 'September', 'October', 'November', 'December']\n",
    "ordered_cat = pd.api.types.CategoricalDtype(ordered = True, categories = level_order)\n",
    "fordbike_2018_clean['start_time_month'] = fordbike_2018_clean['start_time_month'].astype(ordered_cat)\n",
    "\n",
    "sb.countplot(data = fordbike_2018_clean, x = 'start_time_month', color = base_color)\n",
    "plt.title(\"Bike Trips by Month\")\n",
    "plt.xlabel(\"Month\")\n",
    "plt.ylabel(\"Number of Bikers\")\n",
    "plt.xticks(rotation = 75);"
   ]
  },
  {
   "cell_type": "markdown",
   "metadata": {
    "slideshow": {
     "slide_type": "slide"
    }
   },
   "source": [
    "October has the most bike trips in 2018 while January has the least"
   ]
  },
  {
   "cell_type": "markdown",
   "metadata": {
    "slideshow": {
     "slide_type": "slide"
    }
   },
   "source": [
    "Next we'll look at Bike Trips by Day of the Week"
   ]
  },
  {
   "cell_type": "code",
   "execution_count": 27,
   "metadata": {
    "slideshow": {
     "slide_type": "subslide"
    }
   },
   "outputs": [
    {
     "data": {
      "image/png": "[encoded data removed]",
      "text/plain": [
       "<Figure size 432x288 with 1 Axes>"
      ]
     },
     "metadata": {
      "needs_background": "light"
     },
     "output_type": "display_data"
    }
   ],
   "source": [
    "# covert start_time_dayofweek to an ordered categorical type\n",
    "level_order = ['Sunday', 'Monday', 'Tuesday', 'Wednesday', 'Thursday', 'Friday', 'Saturday']\n",
    "ordered_cat = pd.api.types.CategoricalDtype(ordered = True, categories = level_order)\n",
    "fordbike_2018_clean['start_time_dayofweek'] = fordbike_2018_clean['start_time_dayofweek'].astype(ordered_cat)\n",
    "\n",
    "sb.countplot(data = fordbike_2018_clean, x = 'start_time_dayofweek', color = base_color)\n",
    "plt.title(\"Bike Trips by Day of the Week\")\n",
    "plt.xlabel(\"Day of the Week\")\n",
    "plt.ylabel(\"Number of Bikers\")\n",
    "plt.xticks(rotation = 75);"
   ]
  },
  {
   "cell_type": "markdown",
   "metadata": {
    "slideshow": {
     "slide_type": "slide"
    }
   },
   "source": [
    "Tuesdays have the most bike trips while Sundays and Saturdays have the least. This is interesting because I thought the weekends would have more trips since people have more time in the days for leisure. Perhaps bikers are using the service for commuting purposes."
   ]
  },
  {
   "cell_type": "markdown",
   "metadata": {
    "slideshow": {
     "slide_type": "slide"
    }
   },
   "source": [
    "Next we'll look at Bike Trips by Hour of the Day"
   ]
  },
  {
   "cell_type": "code",
   "execution_count": 28,
   "metadata": {
    "scrolled": true,
    "slideshow": {
     "slide_type": "subslide"
    }
   },
   "outputs": [
    {
     "data": {
      "image/png": "[encoded data removed]",
      "text/plain": [
       "<Figure size 432x288 with 1 Axes>"
      ]
     },
     "metadata": {
      "needs_background": "light"
     },
     "output_type": "display_data"
    }
   ],
   "source": [
    "# covert start_time_dayofweek to an ordered categorical type\n",
    "'''\n",
    "level_order = ['00', '01', '02', '03', '04', '05', '06', '07', '08', '09', '10', '11', '12', '13', '14', '15', '16', \n",
    "              '17', '18', '19', '20', '21', '22', '23']\n",
    "ordered_cat = pd.api.types.CategoricalDtype(ordered = True, categories = level_order)\n",
    "fordbike_2018_clean['start_time_hour'] = fordbike_2018_clean['start_time_hour'].astype(ordered_cat)\n",
    "'''\n",
    "\n",
    "sb.countplot(data = fordbike_2018_clean, x = 'start_time_hour', color = base_color)\n",
    "plt.title(\"Bike Trips by Hour of the Day\")\n",
    "plt.xlabel(\"Hour of the Day\")\n",
    "plt.ylabel(\"Number of Bikers\");"
   ]
  },
  {
   "cell_type": "markdown",
   "metadata": {
    "slideshow": {
     "slide_type": "slide"
    }
   },
   "source": [
    "We can see there are two peak hours 8 and 17 (8:00 AM and 5:00 PM). This supports the previous observation that bikers are using the service for commuting."
   ]
  },
  {
   "cell_type": "markdown",
   "metadata": {
    "slideshow": {
     "slide_type": "slide"
    }
   },
   "source": [
    "And finally let's look at the distribution of bike trip duration"
   ]
  },
  {
   "cell_type": "code",
   "execution_count": 29,
   "metadata": {
    "slideshow": {
     "slide_type": "skip"
    }
   },
   "outputs": [
    {
     "data": {
      "image/png": "[encoded data removed]",
      "text/plain": [
       "<Figure size 576x360 with 1 Axes>"
      ]
     },
     "metadata": {
      "needs_background": "light"
     },
     "output_type": "display_data"
    }
   ],
   "source": [
    "binsize = 60\n",
    "bin_edges = np.arange(0, fordbike_2018_clean['duration_sec'].max(), binsize)\n",
    "\n",
    "plt.figure(figsize=[8, 5])\n",
    "plt.hist(data = fordbike_2018_clean, x = 'duration_sec', bins = bin_edges)\n",
    "plt.title(\"Distribution of Trip Duration (sec)\")\n",
    "plt.xlabel(\"Duration (sec)\")\n",
    "plt.ylabel(\"Number of Trips\");"
   ]
  },
  {
   "cell_type": "code",
   "execution_count": 30,
   "metadata": {
    "slideshow": {
     "slide_type": "skip"
    }
   },
   "outputs": [
    {
     "data": {
      "text/plain": [
       "86281"
      ]
     },
     "execution_count": 30,
     "metadata": {},
     "output_type": "execute_result"
    }
   ],
   "source": [
    "fordbike_2018_clean['duration_sec'].max()"
   ]
  },
  {
   "cell_type": "markdown",
   "metadata": {
    "slideshow": {
     "slide_type": "skip"
    }
   },
   "source": [
    "The max duration_seconds seems abnomally high and unusual. 86,281 seconds = 23 hours seems invalid"
   ]
  },
  {
   "cell_type": "code",
   "execution_count": 31,
   "metadata": {
    "slideshow": {
     "slide_type": "skip"
    }
   },
   "outputs": [],
   "source": [
    "# select high outliers, using criteria eyeballed from the plots\n",
    "high_outliers = fordbike_2018_clean['duration_sec'] > 5000\n",
    "\n",
    "# keep only the data below high outliers\n",
    "fordbike_2018_clean = fordbike_2018_clean.loc[-high_outliers]"
   ]
  },
  {
   "cell_type": "code",
   "execution_count": 32,
   "metadata": {
    "slideshow": {
     "slide_type": "subslide"
    }
   },
   "outputs": [
    {
     "data": {
      "image/png": "[encoded data removed]",
      "text/plain": [
       "<Figure size 576x360 with 1 Axes>"
      ]
     },
     "metadata": {
      "needs_background": "light"
     },
     "output_type": "display_data"
    }
   ],
   "source": [
    "binsize = 60\n",
    "bin_edges = np.arange(0, fordbike_2018_clean['duration_sec'].max(), binsize)\n",
    "\n",
    "plt.figure(figsize=[8, 5])\n",
    "plt.hist(data = fordbike_2018_clean, x = 'duration_sec', bins = bin_edges)\n",
    "plt.title(\"Distribution of Trip Duration (sec)\")\n",
    "plt.xlabel(\"Duration (sec)\")\n",
    "plt.ylabel(\"Number of Trips\");"
   ]
  },
  {
   "cell_type": "markdown",
   "metadata": {
    "slideshow": {
     "slide_type": "slide"
    }
   },
   "source": [
    "From this histgram, we can see that the histogram is right-skewed and majority of the trips are about 500 seconds long (approximately 8 minutes). "
   ]
  },
  {
   "cell_type": "code",
   "execution_count": null,
   "metadata": {
    "slideshow": {
     "slide_type": "skip"
    }
   },
   "outputs": [],
   "source": []
  },
  {
   "cell_type": "markdown",
   "metadata": {
    "slideshow": {
     "slide_type": "skip"
    }
   },
   "source": [
    "### Discuss the distribution(s) of your variable(s) of interest. Were there any unusual points? Did you need to perform any transformations?\n",
    "\n",
    "When investigating start_time_dayofweek, I found it unusual that more points were on Tuesdays rather than weekends because I assumed people would have more time to go biking on their day of leisure. No transformations were performed.\n",
    "\n",
    "### Of the features you investigated, were there any unusual distributions? Did you perform any operations on the data to tidy, adjust, or change the form of the data? If so, why did you do this?\n",
    "\n",
    "When investigating the duartion_sec variable, a number of outlier points were identified. The maximum value seemed abnormally high, so by eyeballing the diagram, I used a point of reference that seemed valid. For safety, all of these points were removed from the dataset to move forward."
   ]
  },
  {
   "cell_type": "markdown",
   "metadata": {
    "slideshow": {
     "slide_type": "slide"
    }
   },
   "source": [
    "## Bivariate Exploration"
   ]
  },
  {
   "cell_type": "markdown",
   "metadata": {
    "slideshow": {
     "slide_type": "slide"
    }
   },
   "source": [
    "Since majority of the bikers are male and seem to be between at 18-40. Let's plot that."
   ]
  },
  {
   "cell_type": "code",
   "execution_count": 48,
   "metadata": {
    "slideshow": {
     "slide_type": "subslide"
    }
   },
   "outputs": [
    {
     "data": {
      "image/png": "[encoded data removed]",
      "text/plain": [
       "<Figure size 432x288 with 1 Axes>"
      ]
     },
     "metadata": {
      "needs_background": "light"
     },
     "output_type": "display_data"
    }
   ],
   "source": [
    "ax = sb.countplot(data = fordbike_2018_clean, x = 'member_age_group', hue = 'member_gender')\n",
    "ax.legend(title = 'Member Gender')\n",
    "plt.title(\"Bike Trips by Age and Gender\")\n",
    "plt.xlabel(\"Member Age Group\")\n",
    "plt.ylabel(\"Number of Bikers\")\n",
    "plt.xticks(rotation = 75);"
   ]
  },
  {
   "cell_type": "markdown",
   "metadata": {
    "slideshow": {
     "slide_type": "slide"
    }
   },
   "source": [
    "The plot above confirms that majority of bikers are Male between the age of 31-40"
   ]
  },
  {
   "cell_type": "markdown",
   "metadata": {
    "slideshow": {
     "slide_type": "slide"
    }
   },
   "source": [
    "Let's first look at the Gender and Start Month"
   ]
  },
  {
   "cell_type": "code",
   "execution_count": 34,
   "metadata": {
    "slideshow": {
     "slide_type": "subslide"
    }
   },
   "outputs": [
    {
     "data": {
      "image/png": "[encoded data removed]",
      "text/plain": [
       "<Figure size 432x288 with 1 Axes>"
      ]
     },
     "metadata": {
      "needs_background": "light"
     },
     "output_type": "display_data"
    }
   ],
   "source": [
    "ax = sb.countplot(data = fordbike_2018_clean, x = 'start_time_month', hue = 'member_gender')\n",
    "ax.legend(title = 'Member Gender')\n",
    "plt.title(\"Bike Trips by Month and Gender\")\n",
    "plt.xlabel(\"Month\")\n",
    "plt.ylabel(\"Number of Bikers\")\n",
    "plt.xticks(rotation = 75);"
   ]
  },
  {
   "cell_type": "markdown",
   "metadata": {
    "slideshow": {
     "slide_type": "slide"
    }
   },
   "source": [
    "The trend seems to be consistent for both Male and Female gender across the months. However, more Males bike in October, while Females bike in most in July and October."
   ]
  },
  {
   "cell_type": "markdown",
   "metadata": {
    "slideshow": {
     "slide_type": "slide"
    }
   },
   "source": [
    "Next, let's look at Gender and Start Day of the Week"
   ]
  },
  {
   "cell_type": "code",
   "execution_count": 35,
   "metadata": {
    "scrolled": true,
    "slideshow": {
     "slide_type": "subslide"
    }
   },
   "outputs": [
    {
     "data": {
      "image/png": "[encoded data removed]",
      "text/plain": [
       "<Figure size 432x288 with 1 Axes>"
      ]
     },
     "metadata": {
      "needs_background": "light"
     },
     "output_type": "display_data"
    }
   ],
   "source": [
    "ax = sb.countplot(data = fordbike_2018_clean, x = 'start_time_dayofweek', hue = 'member_gender')\n",
    "ax.legend(title = 'Member Gender')\n",
    "plt.title(\"Bike Trips by Day of the Week\")\n",
    "plt.xlabel(\"Day of Week\")\n",
    "plt.ylabel(\"Number of Bikers\")\n",
    "plt.xticks(rotation = 75);"
   ]
  },
  {
   "cell_type": "markdown",
   "metadata": {
    "slideshow": {
     "slide_type": "slide"
    }
   },
   "source": [
    "The trend seems to be consistent for both Male and Female gender across the days of the week. So it doesn't seem like gender has any efefct on the day of the week that bikers ride."
   ]
  },
  {
   "cell_type": "markdown",
   "metadata": {
    "slideshow": {
     "slide_type": "slide"
    }
   },
   "source": [
    "Next, let's look at Gender and Start Hour "
   ]
  },
  {
   "cell_type": "code",
   "execution_count": 36,
   "metadata": {
    "scrolled": true,
    "slideshow": {
     "slide_type": "subslide"
    }
   },
   "outputs": [
    {
     "data": {
      "image/png": "[encoded data removed]",
      "text/plain": [
       "<Figure size 432x288 with 1 Axes>"
      ]
     },
     "metadata": {
      "needs_background": "light"
     },
     "output_type": "display_data"
    },
    {
     "data": {
      "text/plain": [
       "<Figure size 720x360 with 0 Axes>"
      ]
     },
     "metadata": {},
     "output_type": "display_data"
    }
   ],
   "source": [
    "ax = sb.countplot(data = fordbike_2018_clean, x = 'start_time_hour', hue = 'member_gender')\n",
    "ax.legend(title = 'Member Gender')\n",
    "plt.title(\"Bike Trips by Hour of Day and Gender\")\n",
    "plt.xlabel(\"Hour of Day\")\n",
    "plt.ylabel(\"Number of Bikers\")\n",
    "plt.figure(figsize=[10, 5]);"
   ]
  },
  {
   "cell_type": "markdown",
   "metadata": {
    "slideshow": {
     "slide_type": "slide"
    }
   },
   "source": [
    "Both Male and Female genders have bimodal hours hours 8 and 17 (8:00 AM and 5:00 PM). Gender doesn't seem to have effect most frequent on hour of day."
   ]
  },
  {
   "cell_type": "markdown",
   "metadata": {
    "slideshow": {
     "slide_type": "slide"
    }
   },
   "source": [
    "Finally, let's look at Gender and Trip Duration"
   ]
  },
  {
   "cell_type": "code",
   "execution_count": 37,
   "metadata": {
    "scrolled": false,
    "slideshow": {
     "slide_type": "subslide"
    }
   },
   "outputs": [
    {
     "name": "stderr",
     "output_type": "stream",
     "text": [
      "/root/anaconda3/lib/python3.7/site-packages/scipy/stats/stats.py:1713: FutureWarning: Using a non-tuple sequence for multidimensional indexing is deprecated; use `arr[tuple(seq)]` instead of `arr[seq]`. In the future this will be interpreted as an array index, `arr[np.array(seq)]`, which will result either in an error or a different result.\n",
      "  return np.add.reduce(sorted[indexer] * weights, axis=axis) / sumval\n"
     ]
    },
    {
     "data": {
      "image/png": "[encoded data removed]",
      "text/plain": [
       "<Figure size 720x360 with 2 Axes>"
      ]
     },
     "metadata": {
      "needs_background": "light"
     },
     "output_type": "display_data"
    }
   ],
   "source": [
    "plt.figure(figsize = [10, 5])\n",
    "\n",
    "# left plot: violin plot\n",
    "plt.subplot(1, 2, 1)\n",
    "ax1 = sb.violinplot(data = fordbike_2018_clean, x = 'member_gender', y = 'duration_sec', color = base_color)\n",
    "plt.title(\"Duration by Gender\")\n",
    "plt.xlabel(\"Member Gender\")\n",
    "plt.ylabel(\"Duration (sec)\")\n",
    "\n",
    "# right plot: box plot\n",
    "plt.subplot(1, 2, 2)\n",
    "sb.boxplot(data = fordbike_2018_clean, x = 'member_gender', y = 'duration_sec', color = base_color)\n",
    "plt.title(\"Duration by Gender\")\n",
    "plt.xlabel(\"Member Gender\")\n",
    "plt.ylabel(\"Duration (sec)\")\n",
    "\n",
    "plt.ylim(ax1.get_ylim()); "
   ]
  },
  {
   "cell_type": "markdown",
   "metadata": {
    "slideshow": {
     "slide_type": "slide"
    }
   },
   "source": [
    "We can see females tend to have longer trip durations than Males"
   ]
  },
  {
   "cell_type": "markdown",
   "metadata": {
    "slideshow": {
     "slide_type": "slide"
    }
   },
   "source": [
    "Now, let's first look at the Age Group and Month"
   ]
  },
  {
   "cell_type": "code",
   "execution_count": 38,
   "metadata": {
    "slideshow": {
     "slide_type": "subslide"
    }
   },
   "outputs": [
    {
     "data": {
      "image/png": "[encoded data removed]",
      "text/plain": [
       "<Figure size 432x288 with 1 Axes>"
      ]
     },
     "metadata": {
      "needs_background": "light"
     },
     "output_type": "display_data"
    },
    {
     "data": {
      "text/plain": [
       "<Figure size 2160x1440 with 0 Axes>"
      ]
     },
     "metadata": {},
     "output_type": "display_data"
    }
   ],
   "source": [
    "ax = sb.countplot(data = fordbike_2018_clean, x = 'start_time_month', hue = 'member_age_group')\n",
    "ax.legend(title = 'Age Group')\n",
    "plt.title(\"Bike Trips by Month and Age Group\")\n",
    "plt.xlabel(\"Month\")\n",
    "plt.ylabel(\"Number of Bikers\")\n",
    "plt.xticks(rotation = 75)\n",
    "plt.figure(figsize=[30, 20]);"
   ]
  },
  {
   "cell_type": "markdown",
   "metadata": {
    "slideshow": {
     "slide_type": "slide"
    }
   },
   "source": [
    "We can see that between Januray and June, most bikers range between ages 31-40, while July to December, most bikers range between ages 18-30. Also, as expected, younger age groups overeall bike more than older age groups."
   ]
  },
  {
   "cell_type": "markdown",
   "metadata": {
    "slideshow": {
     "slide_type": "slide"
    }
   },
   "source": [
    "Now, let's first look at the Age Group and Day of the week"
   ]
  },
  {
   "cell_type": "code",
   "execution_count": 39,
   "metadata": {
    "scrolled": true,
    "slideshow": {
     "slide_type": "subslide"
    }
   },
   "outputs": [
    {
     "data": {
      "image/png": "[encoded data removed]",
      "text/plain": [
       "<Figure size 432x288 with 1 Axes>"
      ]
     },
     "metadata": {
      "needs_background": "light"
     },
     "output_type": "display_data"
    },
    {
     "data": {
      "text/plain": [
       "<Figure size 2160x1440 with 0 Axes>"
      ]
     },
     "metadata": {},
     "output_type": "display_data"
    }
   ],
   "source": [
    "ax = sb.countplot(data = fordbike_2018_clean, x = 'start_time_dayofweek', hue = 'member_age_group')\n",
    "ax.legend(title = 'Age Group')\n",
    "plt.title(\"Bike Trips by Day of the Week and Age Group\")\n",
    "plt.xlabel(\"Day of Week\")\n",
    "plt.ylabel(\"Number of Bikers\")\n",
    "plt.xticks(rotation = 75)\n",
    "plt.figure(figsize=[30, 20]);"
   ]
  },
  {
   "cell_type": "markdown",
   "metadata": {
    "slideshow": {
     "slide_type": "slide"
    }
   },
   "source": [
    "We can still see that most bikers bike on Tuesday. However, during the week, most bikers range between age 31-40, while on the weekends most bikers range between ages 18-30."
   ]
  },
  {
   "cell_type": "markdown",
   "metadata": {
    "slideshow": {
     "slide_type": "slide"
    }
   },
   "source": [
    "Now, let's first look at the Age Group and Hour of Day"
   ]
  },
  {
   "cell_type": "code",
   "execution_count": 40,
   "metadata": {
    "slideshow": {
     "slide_type": "subslide"
    }
   },
   "outputs": [
    {
     "data": {
      "image/png": "[encoded data removed]",
      "text/plain": [
       "<Figure size 432x288 with 1 Axes>"
      ]
     },
     "metadata": {
      "needs_background": "light"
     },
     "output_type": "display_data"
    },
    {
     "data": {
      "text/plain": [
       "<Figure size 3600x2160 with 0 Axes>"
      ]
     },
     "metadata": {},
     "output_type": "display_data"
    }
   ],
   "source": [
    "ax = sb.countplot(data = fordbike_2018_clean, x = 'start_time_hour', hue = 'member_age_group')\n",
    "ax.legend(title = 'Age Group')\n",
    "plt.title(\"Bike Trips by Hour and Age Group\")\n",
    "plt.xlabel(\"Hour of Day\")\n",
    "plt.ylabel(\"Number of Bikers\")\n",
    "plt.figure(figsize=[50, 30]);"
   ]
  },
  {
   "cell_type": "markdown",
   "metadata": {
    "slideshow": {
     "slide_type": "slide"
    }
   },
   "source": [
    "We still have bimodal hours hours 8 and 17 (8:00 AM and 5:00 PM) for all age groups. However,  we can see the age group 18-30 bike more than other age groups during really early and really late hours (before 5:00 AM and after 7:00 PM)"
   ]
  },
  {
   "cell_type": "markdown",
   "metadata": {
    "slideshow": {
     "slide_type": "slide"
    }
   },
   "source": [
    "Now, let's first look at the Age Group and Trip Duration"
   ]
  },
  {
   "cell_type": "code",
   "execution_count": 41,
   "metadata": {
    "scrolled": false,
    "slideshow": {
     "slide_type": "subslide"
    }
   },
   "outputs": [
    {
     "data": {
      "image/png": "[encoded data removed]",
      "text/plain": [
       "<Figure size 720x360 with 2 Axes>"
      ]
     },
     "metadata": {
      "needs_background": "light"
     },
     "output_type": "display_data"
    }
   ],
   "source": [
    "plt.figure(figsize = [10, 5])\n",
    "\n",
    "# left plot: violin plot\n",
    "plt.subplot(1, 2, 1)\n",
    "ax1 = sb.violinplot(data = fordbike_2018_clean, x = 'member_age_group', y = 'duration_sec', color = base_color)\n",
    "plt.title(\"Duration by Age Group\")\n",
    "plt.xlabel(\"Age Group\")\n",
    "plt.ylabel(\"Duration (sec)\")\n",
    "\n",
    "# right plot: box plot\n",
    "plt.subplot(1, 2, 2)\n",
    "sb.boxplot(data = fordbike_2018_clean, x = 'member_age_group', y = 'duration_sec', color = base_color)\n",
    "plt.title(\"Duration by Age Group\")\n",
    "plt.xlabel(\"Age Group\")\n",
    "plt.ylabel(\"Duration (sec)\")\n",
    "plt.ylim(ax1.get_ylim()); "
   ]
  },
  {
   "cell_type": "markdown",
   "metadata": {
    "slideshow": {
     "slide_type": "slide"
    }
   },
   "source": [
    "Age groups 18-30 and 51+ have a slight longer trip duration time but it doesn't seem strongly suggest that age group affects trip duration."
   ]
  },
  {
   "cell_type": "markdown",
   "metadata": {
    "slideshow": {
     "slide_type": "skip"
    }
   },
   "source": [
    "Next let's look at the User Type and Month"
   ]
  },
  {
   "cell_type": "code",
   "execution_count": 42,
   "metadata": {
    "slideshow": {
     "slide_type": "skip"
    }
   },
   "outputs": [
    {
     "data": {
      "image/png": "[encoded data removed]",
      "text/plain": [
       "<Figure size 432x288 with 1 Axes>"
      ]
     },
     "metadata": {
      "needs_background": "light"
     },
     "output_type": "display_data"
    }
   ],
   "source": [
    "ax = sb.countplot(data = fordbike_2018_clean, x = 'start_time_month', hue = 'user_type')\n",
    "ax.legend(title = 'User Type')\n",
    "plt.title(\"Bike Trips by Month and User Type\")\n",
    "plt.xlabel(\"Month\")\n",
    "plt.ylabel(\"Number of Bikers\")\n",
    "plt.xticks(rotation = 75);"
   ]
  },
  {
   "cell_type": "markdown",
   "metadata": {
    "slideshow": {
     "slide_type": "skip"
    }
   },
   "source": [
    "The overall trend looks the same for both Customers an Subscribers. However, more Subscribers make trips in October, while more Customers make trips in July."
   ]
  },
  {
   "cell_type": "markdown",
   "metadata": {
    "slideshow": {
     "slide_type": "skip"
    }
   },
   "source": [
    "Next, let's look at User Type and Day of the Week"
   ]
  },
  {
   "cell_type": "code",
   "execution_count": 43,
   "metadata": {
    "scrolled": true,
    "slideshow": {
     "slide_type": "skip"
    }
   },
   "outputs": [
    {
     "data": {
      "image/png": "[encoded data removed]",
      "text/plain": [
       "<Figure size 432x288 with 1 Axes>"
      ]
     },
     "metadata": {
      "needs_background": "light"
     },
     "output_type": "display_data"
    }
   ],
   "source": [
    "ax = sb.countplot(data = fordbike_2018_clean, x = 'start_time_dayofweek', hue = 'user_type')\n",
    "ax.legend(title = 'User Type')\n",
    "plt.title(\"Bike Trips by Day of the Week and User Type\")\n",
    "plt.xlabel(\"Day of Week\")\n",
    "plt.ylabel(\"Number of Bikers\")\n",
    "plt.xticks(rotation = 75);"
   ]
  },
  {
   "cell_type": "markdown",
   "metadata": {
    "slideshow": {
     "slide_type": "skip"
    }
   },
   "source": [
    "For Customers and Subsribers our trends are different for Day of the Week a trip occured. Subscribers tends to take more trips during the week while Customers take more trips during the weekends (Saturday and Sunday)"
   ]
  },
  {
   "cell_type": "markdown",
   "metadata": {
    "slideshow": {
     "slide_type": "skip"
    }
   },
   "source": [
    "Next, let's look at User Type and Hour of the Day"
   ]
  },
  {
   "cell_type": "code",
   "execution_count": 44,
   "metadata": {
    "scrolled": true,
    "slideshow": {
     "slide_type": "skip"
    }
   },
   "outputs": [
    {
     "data": {
      "image/png": "[encoded data removed]",
      "text/plain": [
       "<Figure size 432x288 with 1 Axes>"
      ]
     },
     "metadata": {
      "needs_background": "light"
     },
     "output_type": "display_data"
    },
    {
     "data": {
      "text/plain": [
       "<Figure size 720x360 with 0 Axes>"
      ]
     },
     "metadata": {},
     "output_type": "display_data"
    }
   ],
   "source": [
    "ax = sb.countplot(data = fordbike_2018_clean, x = 'start_time_hour', hue = 'user_type')\n",
    "ax.legend(title = 'User Type')\n",
    "plt.title(\"Bike Trips by Hour and User Type\")\n",
    "plt.xlabel(\"Hour of Day\")\n",
    "plt.ylabel(\"Number of Bikers\")\n",
    "plt.figure(figsize=[10, 5]);"
   ]
  },
  {
   "cell_type": "markdown",
   "metadata": {
    "slideshow": {
     "slide_type": "skip"
    }
   },
   "source": [
    "We still have bimodal hours hours 8 and 17 (8:00 AM and 5:00 PM) for both Subscribers and Customers"
   ]
  },
  {
   "cell_type": "markdown",
   "metadata": {
    "slideshow": {
     "slide_type": "skip"
    }
   },
   "source": [
    "Now, let's first look at the User Type and Trip Duration"
   ]
  },
  {
   "cell_type": "code",
   "execution_count": 45,
   "metadata": {
    "scrolled": false,
    "slideshow": {
     "slide_type": "skip"
    }
   },
   "outputs": [
    {
     "data": {
      "image/png": "[encoded data removed]",
      "text/plain": [
       "<Figure size 720x360 with 2 Axes>"
      ]
     },
     "metadata": {
      "needs_background": "light"
     },
     "output_type": "display_data"
    }
   ],
   "source": [
    "plt.figure(figsize = [10, 5])\n",
    "\n",
    "# left plot: violin plot\n",
    "plt.subplot(1, 2, 1)\n",
    "ax1 = sb.violinplot(data = fordbike_2018_clean, x = 'user_type', y = 'duration_sec', color = base_color)\n",
    "plt.title(\"Duration by User Type\")\n",
    "plt.xlabel(\"User Type\")\n",
    "plt.ylabel(\"Duration (sec)\")\n",
    "\n",
    "# right plot: box plot\n",
    "plt.subplot(1, 2, 2)\n",
    "sb.boxplot(data = fordbike_2018_clean, x = 'user_type', y = 'duration_sec', color = base_color)\n",
    "plt.title(\"Duration by User Type\")\n",
    "plt.xlabel(\"User Type\")\n",
    "plt.ylabel(\"Duration (sec)\")\n",
    "plt.ylim(ax1.get_ylim()); "
   ]
  },
  {
   "cell_type": "markdown",
   "metadata": {
    "slideshow": {
     "slide_type": "skip"
    }
   },
   "source": [
    "Customers tend to have longer trip duration than subscribers. We can also see from the violin plot that subsribers  occurences of trip duration at arounf 400 seconds than customers."
   ]
  },
  {
   "cell_type": "markdown",
   "metadata": {
    "slideshow": {
     "slide_type": "skip"
    }
   },
   "source": [
    "### Talk about some of the relationships you observed in this part of the investigation. How did the feature(s) of interest vary with other features in the dataset?\n",
    "\n",
    "For the most part, gender didn't seem to have much effect on the month, day of week or hour of day but we could see that females tend to have a slightly longer trip duration. \n",
    "\n",
    "The age group had interesting observations. As expected, the two younger age groups bike more than older age groups. But interestingly, between Januray and June, most bikers range between ages 31-40, while July to December, most bikers range between ages 18-30. Another intersting observation from the age groups is during the week, most bikers range between age 31-40, while on the weekends most bikers range between ages 18-30. We could see most bikers travel at 8:00 AM and 5:00 PM. This indicates they potentially are using the service for commuting to and from work. This is possibly due to the late night outings in the 18-30 age group in comparison to others and some possibly don't have cars to drive.\n",
    "\n",
    "\n",
    "\n",
    "\n",
    "\n",
    "### Did you observe any interesting relationships between the other features (not the main feature(s) of interest)?\n",
    "\n",
    "Expected relationships were found between gender, month, day of week or hour of day and trip duration. I found it interesting that the youngest age group category, 18-30 travel the most at really early and really late hours (before 5:00 AM and after 7:00 PM).\n",
    "\n",
    "Subscribers tends to take more trips during the week while Customers take more trips during the weekends (Saturday and Sunday) possibly because they are using the service for occasional leisure rather than commuting and trying it for the first time before subsribing. Also, customers tend to have longer trip duration than subscribers possibly because they are leisurely travel. "
   ]
  },
  {
   "cell_type": "markdown",
   "metadata": {
    "slideshow": {
     "slide_type": "slide"
    }
   },
   "source": [
    "## Multivariate Exploration"
   ]
  },
  {
   "cell_type": "markdown",
   "metadata": {
    "slideshow": {
     "slide_type": "skip"
    }
   },
   "source": [
    "Let's take a look at gender, user type and trip duration"
   ]
  },
  {
   "cell_type": "code",
   "execution_count": 46,
   "metadata": {
    "slideshow": {
     "slide_type": "skip"
    }
   },
   "outputs": [
    {
     "name": "stderr",
     "output_type": "stream",
     "text": [
      "/root/anaconda3/lib/python3.7/site-packages/seaborn/axisgrid.py:230: UserWarning: The `size` paramter has been renamed to `height`; please update your code.\n",
      "  warnings.warn(msg, UserWarning)\n",
      "/root/anaconda3/lib/python3.7/site-packages/seaborn/axisgrid.py:715: UserWarning: Using the boxplot function without specifying `order` is likely to produce an incorrect plot.\n",
      "  warnings.warn(warning)\n"
     ]
    },
    {
     "data": {
      "text/plain": [
       "<seaborn.axisgrid.FacetGrid at 0x7f93c2516278>"
      ]
     },
     "execution_count": 46,
     "metadata": {},
     "output_type": "execute_result"
    },
    {
     "data": {
      "image/png": "[encoded data removed]",
      "text/plain": [
       "<Figure size 864x288 with 3 Axes>"
      ]
     },
     "metadata": {
      "needs_background": "light"
     },
     "output_type": "display_data"
    }
   ],
   "source": [
    "g = sb.FacetGrid(data = fordbike_2018_clean, col = 'member_gender', size = 4)\n",
    "g.map(sb.boxplot, 'user_type', 'duration_sec')"
   ]
  },
  {
   "cell_type": "markdown",
   "metadata": {
    "slideshow": {
     "slide_type": "slide"
    }
   },
   "source": [
    "Female Customers have longer trip duratin than Male Customers."
   ]
  },
  {
   "cell_type": "markdown",
   "metadata": {
    "slideshow": {
     "slide_type": "slide"
    }
   },
   "source": [
    "Now let's look at memger age group, gender and user type"
   ]
  },
  {
   "cell_type": "code",
   "execution_count": 47,
   "metadata": {
    "slideshow": {
     "slide_type": "subslide"
    }
   },
   "outputs": [
    {
     "name": "stderr",
     "output_type": "stream",
     "text": [
      "/root/anaconda3/lib/python3.7/site-packages/seaborn/axisgrid.py:230: UserWarning: The `size` paramter has been renamed to `height`; please update your code.\n",
      "  warnings.warn(msg, UserWarning)\n",
      "/root/anaconda3/lib/python3.7/site-packages/seaborn/axisgrid.py:715: UserWarning: Using the boxplot function without specifying `order` is likely to produce an incorrect plot.\n",
      "  warnings.warn(warning)\n"
     ]
    },
    {
     "data": {
      "text/plain": [
       "<seaborn.axisgrid.FacetGrid at 0x7f93c2fec2e8>"
      ]
     },
     "execution_count": 47,
     "metadata": {},
     "output_type": "execute_result"
    },
    {
     "data": {
      "image/png": "[encoded data removed]",
      "text/plain": [
       "<Figure size 864x288 with 3 Axes>"
      ]
     },
     "metadata": {
      "needs_background": "light"
     },
     "output_type": "display_data"
    }
   ],
   "source": [
    "g = sb.FacetGrid(data = fordbike_2018_clean, col = 'member_gender', size = 4)\n",
    "g.map(sb.boxplot, 'member_age_group', 'duration_sec')"
   ]
  },
  {
   "cell_type": "markdown",
   "metadata": {
    "slideshow": {
     "slide_type": "slide"
    }
   },
   "source": [
    "There is not much variation in the Female age groups to Male age groups"
   ]
  },
  {
   "cell_type": "markdown",
   "metadata": {
    "slideshow": {
     "slide_type": "skip"
    }
   },
   "source": [
    "### Talk about some of the relationships you observed in this part of the investigation. Were there features that strengthened each other in terms of looking at your feature(s) of interest?\n",
    "\n",
    "Female Customers have longer trip duratin than Male Customers. This strengthened the fact that females take a longer time to bike than males.\n",
    "\n",
    "### Were there any interesting or surprising interactions between features?\n",
    "\n",
    "I found it  surprising that there is not much variation in the Female age groups to Male age groups with respect to duration since overal females had longer trip durations."
   ]
  },
  {
   "cell_type": "markdown",
   "metadata": {
    "slideshow": {
     "slide_type": "skip"
    }
   },
   "source": [
    "> At the end of your report, make sure that you export the notebook as an\n",
    "html file from the `File > Download as... > HTML` menu. Make sure you keep\n",
    "track of where the exported file goes, so you can put it in the same folder\n",
    "as this notebook for project submission. Also, make sure you remove all of\n",
    "the quote-formatted guide notes like this one before you finish your report!"
   ]
  },
  {
   "cell_type": "code",
   "execution_count": null,
   "metadata": {
    "slideshow": {
     "slide_type": "skip"
    }
   },
   "outputs": [],
   "source": []
  }
 ],
 "metadata": {
  "celltoolbar": "Slideshow",
  "kernelspec": {
   "display_name": "Python 3",
   "language": "python",
   "name": "python3"
  },
  "language_info": {
   "codemirror_mode": {
    "name": "ipython",
    "version": 3
   },
   "file_extension": ".py",
   "mimetype": "text/x-python",
   "name": "python",
   "nbconvert_exporter": "python",
   "pygments_lexer": "ipython3",
   "version": "3.7.1"
  }
 },
 "nbformat": 4,
 "nbformat_minor": 2
}
